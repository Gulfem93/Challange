{
 "cells": [
  {
   "cell_type": "markdown",
   "metadata": {},
   "source": [
    "QuestionsMarks( str ) işlevinin tek basamaklı sayılar, harfler ve soru işaretleri içeren str dize parametresini almasını sağlayın ve iki sayının toplamı 10'a ulaşan her çift arasında tam olarak 3 soru işareti olup olmadığını kontrol edin. Eğer öyleyse, o zaman programınız true dizesini döndürmelidir , aksi takdirde false dizesini döndürmelidir . Dizede toplamı 10'a ulaşan iki sayı yoksa, programınız da false döndürmelidir .\n",
    "\n",
    "Örneğin:\n",
    "```\n",
    "str \"arrb6???4xxbl5???eee5\" ise programınız true değerini döndürmelidir.çünkü dizenin sonunda 6 ile 4 arasında tam olarak 3 soru işareti ve 5 ile 5 arasında 3 soru işareti vardır.\n",
    "```"
   ]
  },
  {
   "cell_type": "code",
   "execution_count": 20,
   "metadata": {},
   "outputs": [],
   "source": [
    "def QuestionsMarks(s): \n",
    "\n",
    "    # code goes here \n",
    "    count_q = 0\n",
    "    a = 0\n",
    "    start_count = False\n",
    "    true_exist = False\n",
    "    for i in s:\n",
    "        if start_count and i == '?':\n",
    "            count_q += 1\n",
    "        if i.isdigit():\n",
    "            a += int(i)\n",
    "            if a==10 and count_q == 3:\n",
    "                true_exist = True\n",
    "            if start_count and a == 10 and count_q != 3:\n",
    "                return 'false'\n",
    "            a = int(i)\n",
    "            count_q = 0\n",
    "            start_count = True\n",
    "    return 'true' if true_exist else 'false'"
   ]
  },
  {
   "cell_type": "code",
   "execution_count": 21,
   "metadata": {},
   "outputs": [
    {
     "name": "stdout",
     "output_type": "stream",
     "text": [
      "true\n"
     ]
    }
   ],
   "source": [
    "print(QuestionsMarks(input()))"
   ]
  },
  {
   "cell_type": "code",
   "execution_count": 22,
   "metadata": {},
   "outputs": [
    {
     "ename": "IndentationError",
     "evalue": "expected an indented block (Temp/ipykernel_21992/1087355736.py, line 3)",
     "output_type": "error",
     "traceback": [
      "\u001b[1;36m  File \u001b[1;32m\"C:\\Users\\LENOVO\\AppData\\Local\\Temp/ipykernel_21992/1087355736.py\"\u001b[1;36m, line \u001b[1;32m3\u001b[0m\n\u001b[1;33m    \u001b[0m\n\u001b[1;37m    ^\u001b[0m\n\u001b[1;31mIndentationError\u001b[0m\u001b[1;31m:\u001b[0m expected an indented block\n"
     ]
    }
   ],
   "source": [
    "x = \"arrb6?\"\n",
    "for i in x:\n",
    "    "
   ]
  }
 ],
 "metadata": {
  "interpreter": {
   "hash": "8b03d4cd05d71d535371b426da57de743181e37d8974a9636efe6e78873daaed"
  },
  "kernelspec": {
   "display_name": "Python 3.9.6 64-bit",
   "language": "python",
   "name": "python3"
  },
  "language_info": {
   "codemirror_mode": {
    "name": "ipython",
    "version": 3
   },
   "file_extension": ".py",
   "mimetype": "text/x-python",
   "name": "python",
   "nbconvert_exporter": "python",
   "pygments_lexer": "ipython3",
   "version": "3.9.6"
  },
  "orig_nbformat": 4
 },
 "nbformat": 4,
 "nbformat_minor": 2
}
