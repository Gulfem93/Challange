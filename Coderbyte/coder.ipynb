{
 "cells": [
  {
   "cell_type": "code",
   "execution_count": 90,
   "metadata": {},
   "outputs": [],
   "source": [
    "# you can write to stdout for debugging purposes, e.g.\n",
    "# print(\"this is a debug message\")\n",
    "\n",
    "def solution(S):\n",
    "    # write your code in Python 3.6\n",
    "    pass\n"
   ]
  },
  {
   "cell_type": "code",
   "execution_count": 91,
   "metadata": {},
   "outputs": [
    {
     "name": "stdout",
     "output_type": "stream",
     "text": [
      "2\n"
     ]
    }
   ],
   "source": [
    "S = \"bbbab\"\n",
    "#esit_olmayan, num, esitlik = 0, 0, 0\n",
    "num = 0, \n",
    "toplam = 0\n",
    "esit_olmayan, esitlik = 0, 0\n",
    "for i in range(len(S)):\n",
    "    \n",
    "    if i > 0:\n",
    "        if S[i] == S[i - 1]: \n",
    "            esitlik = esitlik + 1\n",
    "    \n",
    "num = esitlik\n",
    "esit_olmayan, esitlik = 0, 0\n",
    "\n",
    "for i in range(len(S)):\n",
    "    if i > 0:\n",
    "        if S[i] != S[i - 1]: \n",
    "            esit_olmayan = esit_olmayan + 1\n",
    "            break\n",
    "\n",
    "toplam = num - esit_olmayan\n",
    "\n",
    "for i in range(len(S)):\n",
    "    esitlik = 0\n",
    "    if i > 0:\n",
    "        if S[i] == S[i - 1]: \n",
    "            esitlik = esitlik + 1\n",
    "\n",
    "toplam = toplam + num - (esitlik + 1)\n",
    "print(toplam)"
   ]
  }
 ],
 "metadata": {
  "interpreter": {
   "hash": "8b03d4cd05d71d535371b426da57de743181e37d8974a9636efe6e78873daaed"
  },
  "kernelspec": {
   "display_name": "Python 3.9.6 64-bit",
   "language": "python",
   "name": "python3"
  },
  "language_info": {
   "codemirror_mode": {
    "name": "ipython",
    "version": 3
   },
   "file_extension": ".py",
   "mimetype": "text/x-python",
   "name": "python",
   "nbconvert_exporter": "python",
   "pygments_lexer": "ipython3",
   "version": "3.9.6"
  },
  "orig_nbformat": 4
 },
 "nbformat": 4,
 "nbformat_minor": 2
}
