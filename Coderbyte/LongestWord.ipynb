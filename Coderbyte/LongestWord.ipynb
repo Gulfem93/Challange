{
 "cells": [
  {
   "cell_type": "code",
   "execution_count": 31,
   "metadata": {},
   "outputs": [],
   "source": [
    "import string"
   ]
  },
  {
   "cell_type": "code",
   "execution_count": 32,
   "metadata": {},
   "outputs": [],
   "source": [
    "def LongestWord(sen):\n",
    "    # code goes here\n",
    "    yeniMetin = \"\"\n",
    "    for i in sen:\n",
    "        if i not in string.punctuation:\n",
    "            yeniMetin += i\n",
    "\n",
    "    yeniMetin = yeniMetin.split()\n",
    "    uzun_kelime = \"\"\n",
    "    for i in range(len(yeniMetin) - 1):\n",
    "        if len(yeniMetin[i]) < len(yeniMetin[i + 1]):\n",
    "            return yeniMetin[i + 1]\n",
    "        else:\n",
    "            return yeniMetin[i]"
   ]
  },
  {
   "cell_type": "code",
   "execution_count": 33,
   "metadata": {},
   "outputs": [
    {
     "name": "stdout",
     "output_type": "stream",
     "text": [
      "nasılsın\n"
     ]
    }
   ],
   "source": [
    "print(LongestWord(input()))"
   ]
  }
 ],
 "metadata": {
  "interpreter": {
   "hash": "8b03d4cd05d71d535371b426da57de743181e37d8974a9636efe6e78873daaed"
  },
  "kernelspec": {
   "display_name": "Python 3.9.6 64-bit",
   "language": "python",
   "name": "python3"
  },
  "language_info": {
   "codemirror_mode": {
    "name": "ipython",
    "version": 3
   },
   "file_extension": ".py",
   "mimetype": "text/x-python",
   "name": "python",
   "nbconvert_exporter": "python",
   "pygments_lexer": "ipython3",
   "version": "3.9.6"
  },
  "orig_nbformat": 4
 },
 "nbformat": 4,
 "nbformat_minor": 2
}
