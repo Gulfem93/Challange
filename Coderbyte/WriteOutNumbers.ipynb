{
 "cells": [
  {
   "cell_type": "markdown",
   "metadata": {},
   "source": [
    "Herhangi bir pozitif sayıyı, sayıyı sözcüklerle temsil eden bir dizeye dönüştüren bir işlev oluşturun. İşlev, 0 ile 999999 arasındaki tüm sayılar için çalışmalıdır.\n",
    "\n",
    "```\n",
    "number2words(0)  ==>  \"zero\"\n",
    "number2words(1)  ==>  \"one\"\n",
    "number2words(9)  ==>  \"nine\"\n",
    "number2words(10)  ==>  \"ten\"\n",
    "number2words(17)  ==>  \"seventeen\"\n",
    "number2words(20)  ==>  \"twenty\"\n",
    "number2words(21)  ==>  \"twenty-one\"\n",
    "number2words(45)  ==>  \"forty-five\"\n",
    "number2words(80)  ==>  \"eighty\"\n",
    "number2words(99)  ==>  \"ninety-nine\"\n",
    "number2words(100)  ==>  \"one hundred\"\n",
    "number2words(301)  ==>  \"three hundred one\"\n",
    "number2words(799)  ==>  \"seven hundred ninety-nine\"\n",
    "number2words(800)  ==>  \"eight hundred\"\n",
    "number2words(950)  ==>  \"nine hundred fifty\"\n",
    "number2words(1000)  ==>  \"one thousand\"\n",
    "number2words(1002)  ==>  \"one thousand two\"\n",
    "number2words(3051)  ==>  \"three thousand fifty-one\"\n",
    "number2words(7200)  ==>  \"seven thousand two hundred\"\n",
    "number2words(7219)  ==>  \"seven thousand two hundred nineteen\"\n",
    "number2words(8330)  ==>  \"eight thousand three hundred thirty\"\n",
    "number2words(99999)  ==>  \"ninety-nine thousand nine hundred ninety-nine\"\n",
    "number2words(888888)  ==>  \"eight hundred eighty-eight thousand eight hundred eighty-eight\"\n",
    "```"
   ]
  },
  {
   "cell_type": "code",
   "execution_count": 2,
   "metadata": {},
   "outputs": [],
   "source": [
    "import math"
   ]
  },
  {
   "cell_type": "code",
   "execution_count": 3,
   "metadata": {},
   "outputs": [],
   "source": [
    "# ones digit\n",
    "def OnesDigit(number: int) -> str:\n",
    "    num = number % 10\n",
    "    digits = {0: \"zero\", 1: \"one\", 2: \"two\", 3: \"three\", 4: \"four\", 5: \"five\", 6: \"six\", 7: \"seven\", 8: \"eight\", 9: \"nine\"}\n",
    "\n",
    "    for key in digits:\n",
    "        if num == key:\n",
    "            return digits[key]"
   ]
  },
  {
   "cell_type": "code",
   "execution_count": 4,
   "metadata": {},
   "outputs": [],
   "source": [
    "def TensDigit(number):\n",
    "   num = (number - number % 10)/10\n",
    "   \n",
    "   return num\n",
    "    "
   ]
  },
  {
   "cell_type": "code",
   "execution_count": 5,
   "metadata": {},
   "outputs": [],
   "source": [
    "def HundredsDigit():\n",
    "    pass"
   ]
  },
  {
   "cell_type": "code",
   "execution_count": 6,
   "metadata": {},
   "outputs": [],
   "source": [
    "def ThousandsDigit():\n",
    "    pass"
   ]
  },
  {
   "cell_type": "code",
   "execution_count": 7,
   "metadata": {},
   "outputs": [],
   "source": [
    "def TenThousandsDigit():\n",
    "    pass"
   ]
  },
  {
   "cell_type": "code",
   "execution_count": 8,
   "metadata": {},
   "outputs": [],
   "source": [
    "def TenHundredsDigit():\n",
    "    pass"
   ]
  },
  {
   "cell_type": "markdown",
   "metadata": {},
   "source": [
    "- log10 -> sayının uzunluğunu hesapladım\n",
    "- floor -> sayıyı yuvarlar"
   ]
  },
  {
   "cell_type": "code",
   "execution_count": 9,
   "metadata": {},
   "outputs": [],
   "source": [
    "def number2words(n):\n",
    "    return OnesDigit(n)"
   ]
  }
 ],
 "metadata": {
  "interpreter": {
   "hash": "8b03d4cd05d71d535371b426da57de743181e37d8974a9636efe6e78873daaed"
  },
  "kernelspec": {
   "display_name": "Python 3.9.6 64-bit",
   "language": "python",
   "name": "python3"
  },
  "language_info": {
   "codemirror_mode": {
    "name": "ipython",
    "version": 3
   },
   "file_extension": ".py",
   "mimetype": "text/x-python",
   "name": "python",
   "nbconvert_exporter": "python",
   "pygments_lexer": "ipython3",
   "version": "3.9.6"
  },
  "orig_nbformat": 4
 },
 "nbformat": 4,
 "nbformat_minor": 2
}
