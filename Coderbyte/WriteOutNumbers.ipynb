{
 "cells": [
  {
   "cell_type": "markdown",
   "metadata": {},
   "source": [
    "Herhangi bir pozitif sayıyı, sayıyı sözcüklerle temsil eden bir dizeye dönüştüren bir işlev oluşturun. İşlev, 0 ile 999999 arasındaki tüm sayılar için çalışmalıdır.\n",
    "\n",
    "```\n",
    "number2words(0)  ==>  \"zero\"\n",
    "number2words(1)  ==>  \"one\"\n",
    "number2words(9)  ==>  \"nine\"\n",
    "number2words(10)  ==>  \"ten\"\n",
    "number2words(17)  ==>  \"seventeen\"\n",
    "number2words(20)  ==>  \"twenty\"\n",
    "number2words(21)  ==>  \"twenty-one\"\n",
    "number2words(45)  ==>  \"forty-five\"\n",
    "number2words(80)  ==>  \"eighty\"\n",
    "number2words(99)  ==>  \"ninety-nine\"\n",
    "number2words(100)  ==>  \"one hundred\"\n",
    "number2words(301)  ==>  \"three hundred one\"\n",
    "number2words(799)  ==>  \"seven hundred ninety-nine\"\n",
    "number2words(800)  ==>  \"eight hundred\"\n",
    "number2words(950)  ==>  \"nine hundred fifty\"\n",
    "number2words(1000)  ==>  \"one thousand\"\n",
    "number2words(1002)  ==>  \"one thousand two\"\n",
    "number2words(3051)  ==>  \"three thousand fifty-one\"\n",
    "number2words(7200)  ==>  \"seven thousand two hundred\"\n",
    "number2words(7219)  ==>  \"seven thousand two hundred nineteen\"\n",
    "number2words(8330)  ==>  \"eight thousand three hundred thirty\"\n",
    "number2words(99999)  ==>  \"ninety-nine thousand nine hundred ninety-nine\"\n",
    "number2words(888888)  ==>  \"eight hundred eighty-eight thousand eight hundred eighty-eight\"\n",
    "```"
   ]
  },
  {
   "cell_type": "code",
   "execution_count": 60,
   "metadata": {},
   "outputs": [],
   "source": [
    "words = \"zero one two three four five six seven eight nine\" + \\\n",
    "\" ten eleven twelve thirteen fourteen fifteen sixteen seventeen eighteen nineteen twenty\" + \\\n",
    "\" thirty forty fifty sixty seventy eighty ninety\"\n",
    "words = words.split(\" \")\n",
    "\n",
    "def number2words(n):\n",
    "    if n < 20:\n",
    "        return words[n]\n",
    "    elif n < 100:\n",
    "        return words[18 + n // 10] + ('' if n % 10 == 0 else '-' + words[n % 10])\n",
    "    elif n < 1000:\n",
    "        return number2words(n // 100) + \" hundred\" + (' ' + number2words(n % 100) if n % 100 > 0 else '')\n",
    "    elif n < 1000000:\n",
    "        return number2words(n // 1000) + \" thousand\" + (' ' + number2words(n % 1000) if n % 1000 > 0 else '')"
   ]
  },
  {
   "cell_type": "code",
   "execution_count": 61,
   "metadata": {},
   "outputs": [
    {
     "data": {
      "text/plain": [
       "'eight hundred fifty-three'"
      ]
     },
     "execution_count": 61,
     "metadata": {},
     "output_type": "execute_result"
    }
   ],
   "source": [
    "number2words(853)"
   ]
  }
 ],
 "metadata": {
  "interpreter": {
   "hash": "8b03d4cd05d71d535371b426da57de743181e37d8974a9636efe6e78873daaed"
  },
  "kernelspec": {
   "display_name": "Python 3.9.6 64-bit",
   "language": "python",
   "name": "python3"
  },
  "language_info": {
   "codemirror_mode": {
    "name": "ipython",
    "version": 3
   },
   "file_extension": ".py",
   "mimetype": "text/x-python",
   "name": "python",
   "nbconvert_exporter": "python",
   "pygments_lexer": "ipython3",
   "version": "3.9.6"
  },
  "orig_nbformat": 4
 },
 "nbformat": 4,
 "nbformat_minor": 2
}
