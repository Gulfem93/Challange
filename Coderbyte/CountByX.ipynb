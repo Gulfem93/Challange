{
 "cells": [
  {
   "cell_type": "markdown",
   "metadata": {},
   "source": [
    "```\n",
    "count_by(1, 5), [1, 2, 3, 4, 5]\n",
    "count_by(2, 5), [2, 4, 6, 8, 10]\n",
    "count_by(3, 5), [3, 6, 9, 12, 15]\n",
    "count_by(50, 5), [50, 100, 150, 200, 250]\n",
    "count_by(100, 5), [100, 200, 300, 400, 500]\n",
    "```"
   ]
  },
  {
   "cell_type": "code",
   "execution_count": 26,
   "metadata": {},
   "outputs": [],
   "source": [
    "def count_by(x, n):\n",
    "    return [i * x for i in range(1, n + 1)]"
   ]
  },
  {
   "cell_type": "code",
   "execution_count": 27,
   "metadata": {},
   "outputs": [
    {
     "data": {
      "text/plain": [
       "'\\ndef count_by(x, n):\\n    num = x*n\\n    dizi = []\\n    for i in range(x, num+x, x):\\n        dizi.append(i)\\n\\n    return dizi\\n'"
      ]
     },
     "execution_count": 27,
     "metadata": {},
     "output_type": "execute_result"
    }
   ],
   "source": [
    "'''\n",
    "def count_by(x, n):\n",
    "    num = x*n\n",
    "    dizi = []\n",
    "    for i in range(x, num+x, x):\n",
    "        dizi.append(i)\n",
    "\n",
    "    return dizi\n",
    "'''\n"
   ]
  },
  {
   "cell_type": "code",
   "execution_count": 28,
   "metadata": {},
   "outputs": [
    {
     "data": {
      "text/plain": [
       "[1, 2, 3, 4, 5, 6, 7, 8, 9, 10]"
      ]
     },
     "execution_count": 28,
     "metadata": {},
     "output_type": "execute_result"
    }
   ],
   "source": [
    "count_by(1, 10)"
   ]
  }
 ],
 "metadata": {
  "interpreter": {
   "hash": "8b03d4cd05d71d535371b426da57de743181e37d8974a9636efe6e78873daaed"
  },
  "kernelspec": {
   "display_name": "Python 3.9.6 64-bit",
   "language": "python",
   "name": "python3"
  },
  "language_info": {
   "codemirror_mode": {
    "name": "ipython",
    "version": 3
   },
   "file_extension": ".py",
   "mimetype": "text/x-python",
   "name": "python",
   "nbconvert_exporter": "python",
   "pygments_lexer": "ipython3",
   "version": "3.9.6"
  },
  "orig_nbformat": 4
 },
 "nbformat": 4,
 "nbformat_minor": 2
}
