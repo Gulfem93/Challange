{
 "cells": [
  {
   "cell_type": "markdown",
   "metadata": {},
   "source": [
    "İnanılmaz sıkıcı şeyler müzesi\n",
    "İnanılmaz sıkıcı şeyler müzesi, bazı sergilerden kurtulmak istiyor. İç mimar Miriam, en sıkıcı sergileri kaldırmak için bir plan yapar. Onlara bir puan verir ve ardından en düşük puana sahip olanı kaldırır.\n",
    "\n",
    "Ancak, tüm sergileri derecelendirmeyi bitirdiğinde, önemli bir fuara gidiyor, bu yüzden sizden en düşük olanı çıkardıktan sonra öğelerin derecelendirmelerini söyleyen bir program yazmanızı istiyor. Yeterince adil.\n",
    "\n",
    "Görev\n",
    "Bir tamsayı dizisi verildiğinde, en küçük değeri kaldırın. Orijinal diziyi/listeyi değiştirmeyin . Aynı değere sahip birden fazla öğe varsa, indeksi daha düşük olanı kaldırın. Boş bir dizi/liste alırsanız, boş bir dizi/liste döndürün.\n",
    "\n",
    "Kalan öğelerin sırasını değiştirmeyin.\n",
    "\n",
    "Örnekler\n",
    "```\n",
    "remove_smallest([1,2,3,4,5]) = [2,3,4,5]\n",
    "remove_smallest([5,3,2,1,4]) = [5,3,2,4]\n",
    "remove_smallest([2,2,1,2,1]) = [2,2,2,1]\n",
    "```"
   ]
  },
  {
   "cell_type": "code",
   "execution_count": 6,
   "metadata": {},
   "outputs": [],
   "source": [
    "def remove_smallest(numbers):\n",
    "   \n",
    "    minimum = min(numbers)\n",
    "\n",
    "    for i in numbers:\n",
    "        if i == minimum:\n",
    "            numbers.remove(minimum)\n",
    "            break\n",
    "    \n",
    "    return numbers\n"
   ]
  },
  {
   "cell_type": "code",
   "execution_count": 7,
   "metadata": {},
   "outputs": [
    {
     "data": {
      "text/plain": [
       "[2, 2, 2, 1]"
      ]
     },
     "execution_count": 7,
     "metadata": {},
     "output_type": "execute_result"
    }
   ],
   "source": [
    "A = [2,2,1,2,1]\n",
    "remove_smallest(A)"
   ]
  }
 ],
 "metadata": {
  "interpreter": {
   "hash": "8b03d4cd05d71d535371b426da57de743181e37d8974a9636efe6e78873daaed"
  },
  "kernelspec": {
   "display_name": "Python 3.9.6 64-bit",
   "language": "python",
   "name": "python3"
  },
  "language_info": {
   "codemirror_mode": {
    "name": "ipython",
    "version": 3
   },
   "file_extension": ".py",
   "mimetype": "text/x-python",
   "name": "python",
   "nbconvert_exporter": "python",
   "pygments_lexer": "ipython3",
   "version": "3.9.6"
  },
  "orig_nbformat": 4
 },
 "nbformat": 4,
 "nbformat_minor": 2
}
