{
 "cells": [
  {
   "cell_type": "markdown",
   "metadata": {},
   "source": [
    "FindIntersection( strArr ) işlevinin strArr'da saklanan ve 2 öğe içeren dize dizisini okumasını sağlayın : ilk öğe artan düzende sıralanmış virgülle ayrılmış sayıların bir listesini, ikinci öğe ise virgülle ayrılmış ikinci bir listeyi temsil edecektir. sayılar (ayrıca sıralanır). Amacınız, strArr öğelerinde oluşan sayıları sıralı bir düzende içeren virgülle ayrılmış bir dize döndürmektir . Kesişme yoksa, false dizesini döndürün .\n",
    "\n",
    "\n",
    "İnput:\n",
    "```\n",
    "Input: [\"1, 3, 4, 7, 13\", \"1, 2, 4, 13, 15\"]\n",
    "```\n",
    "\n",
    "Output:\n",
    "```\n",
    "Output: 1,4,13\n",
    "````\n",
    "\n",
    "\n",
    "İnput:\n",
    "```\n",
    "Input: [\"1, 3, 9, 10, 17, 18\", \"1, 4, 9, 10\"]\n",
    "```\n",
    "\n",
    "Output:\n",
    "```\n",
    "Output: 1,9,10\n",
    "```"
   ]
  },
  {
   "cell_type": "code",
   "execution_count": 112,
   "metadata": {},
   "outputs": [],
   "source": [
    "def FindIntersection(strArr):\n",
    "  \n",
    "  setOne = set(strArr[0].split(\", \"))\n",
    "  setTwo = set(strArr[1].split(\", \"))\n",
    "\n",
    "  result = sorted(list(setOne.intersection(setTwo)), key=lambda str: int(str))\n",
    "    \n",
    "  return ','.join(result) if len(result) > 0 else False\n"
   ]
  },
  {
   "cell_type": "code",
   "execution_count": 113,
   "metadata": {},
   "outputs": [
    {
     "name": "stdout",
     "output_type": "stream",
     "text": [
      "False\n"
     ]
    }
   ],
   "source": [
    "print(FindIntersection(input()))"
   ]
  }
 ],
 "metadata": {
  "interpreter": {
   "hash": "8b03d4cd05d71d535371b426da57de743181e37d8974a9636efe6e78873daaed"
  },
  "kernelspec": {
   "display_name": "Python 3.9.6 64-bit",
   "language": "python",
   "name": "python3"
  },
  "language_info": {
   "codemirror_mode": {
    "name": "ipython",
    "version": 3
   },
   "file_extension": ".py",
   "mimetype": "text/x-python",
   "name": "python",
   "nbconvert_exporter": "python",
   "pygments_lexer": "ipython3",
   "version": "3.9.6"
  },
  "orig_nbformat": 4
 },
 "nbformat": 4,
 "nbformat_minor": 2
}
