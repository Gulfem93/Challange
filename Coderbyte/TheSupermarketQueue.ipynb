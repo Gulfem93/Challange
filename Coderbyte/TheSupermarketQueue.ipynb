{
 "cells": [
  {
   "cell_type": "markdown",
   "metadata": {},
   "source": [
    "```\n",
    "([], 1), 0, \"wrong answer for case with an empty queue\"\n",
    "([5], 1), 5, \"wrong answer for a single person in the queue\"\n",
    "([2], 5), 2, \"wrong answer for a single person in the queue\"\n",
    "([1,2,3,4,5], 1), 15, \"wrong answer for a single till\"\n",
    "([1,2,3,4,5], 100), 5, \"wrong answer for a case with a large number of tills\"\n",
    "([2,2,3,3,4,4], 2), 9, \"wrong answer for a case with two tills\"\n",
    "```"
   ]
  },
  {
   "cell_type": "code",
   "execution_count": 5,
   "metadata": {},
   "outputs": [],
   "source": [
    "def queue_time(customers, n):\n",
    "    l=[0]*n\n",
    "    for i in customers:\n",
    "        l[l.index(min(l))]+=i\n",
    "    return max(l)"
   ]
  },
  {
   "cell_type": "code",
   "execution_count": 6,
   "metadata": {},
   "outputs": [
    {
     "data": {
      "text/plain": [
       "5"
      ]
     },
     "execution_count": 6,
     "metadata": {},
     "output_type": "execute_result"
    }
   ],
   "source": [
    "custormer, nn = [1,2,3,4,5], 100\n",
    "queue_time(custormer, nn)"
   ]
  }
 ],
 "metadata": {
  "interpreter": {
   "hash": "8b03d4cd05d71d535371b426da57de743181e37d8974a9636efe6e78873daaed"
  },
  "kernelspec": {
   "display_name": "Python 3.9.6 64-bit",
   "language": "python",
   "name": "python3"
  },
  "language_info": {
   "codemirror_mode": {
    "name": "ipython",
    "version": 3
   },
   "file_extension": ".py",
   "mimetype": "text/x-python",
   "name": "python",
   "nbconvert_exporter": "python",
   "pygments_lexer": "ipython3",
   "version": "3.9.6"
  },
  "orig_nbformat": 4
 },
 "nbformat": 4,
 "nbformat_minor": 2
}
