{
 "cells": [
  {
   "cell_type": "markdown",
   "metadata": {},
   "source": [
    "```\n",
    "[9, 3, '7', '3'], 22\n",
    "['5', '0', 9, 3, 2, 1, '9', 6, 7], 42\n",
    "['3', 6, 6, 0, '5', 8, 5, '6', 2,'0'], 41\n",
    "['1', '5', '8', 8, 9, 9, 2, '3'], 45\n",
    "[8, 0, 0, 8, 5, 7, 2, 3, 7, 8, 6, 7], 61\n",
    "```"
   ]
  },
  {
   "cell_type": "code",
   "execution_count": 10,
   "metadata": {},
   "outputs": [],
   "source": [
    "def sum_mix(arr):\n",
    "    for i in arr:\n",
    "        dizi = []\n",
    "        if type(i) == str:\n",
    "            i = int(i)\n",
    "            dizi.append(i)\n",
    "        dizi.append(i)\n",
    "    \n",
    "    toplam = sum(dizi)\n",
    "    return toplam\n",
    "        "
   ]
  },
  {
   "cell_type": "code",
   "execution_count": 11,
   "metadata": {},
   "outputs": [],
   "source": [
    "arr = [9, 3, '7', '3']\n",
    "dizi = []\n",
    "for i in arr:\n",
    "    if type(i) == str:\n",
    "        dizi.append(int(i))\n",
    "    \n",
    "    if type(i) == int:\n",
    "        dizi.append(i)\n",
    "toplam = sum(dizi)"
   ]
  }
 ],
 "metadata": {
  "interpreter": {
   "hash": "8b03d4cd05d71d535371b426da57de743181e37d8974a9636efe6e78873daaed"
  },
  "kernelspec": {
   "display_name": "Python 3.9.6 64-bit",
   "language": "python",
   "name": "python3"
  },
  "language_info": {
   "codemirror_mode": {
    "name": "ipython",
    "version": 3
   },
   "file_extension": ".py",
   "mimetype": "text/x-python",
   "name": "python",
   "nbconvert_exporter": "python",
   "pygments_lexer": "ipython3",
   "version": "3.9.6"
  },
  "orig_nbformat": 4
 },
 "nbformat": 4,
 "nbformat_minor": 2
}
