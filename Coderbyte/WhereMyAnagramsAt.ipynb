{
 "cells": [
  {
   "cell_type": "markdown",
   "metadata": {},
   "source": [
    "anagram nedir? Eh, ikisi de aynı harfleri içeriyorsa, iki kelime birbirinin anagramıdır. Örneğin:\n",
    "'abba' & 'baab' == true\n",
    "\n",
    "'abba' & 'bbaa' == true\n",
    "\n",
    "'abba' & 'abbba' == false\n",
    "\n",
    "'abba' & 'abca' == false\n",
    "\n",
    "Listeden bir kelimenin tüm anagramlarını bulan bir fonksiyon yazın. Size bir kelime ve kelimeler içeren bir dizi olmak üzere iki girdi verilecektir. Tüm anagramların bir dizisini veya yoksa boş bir dizi döndürmelisiniz. Örneğin:\n",
    "```\n",
    "'abba', ['aabb', 'abcd', 'bbaa', 'dada'] => ['aabb', 'bbaa']\n",
    "\n",
    "'racer', ['crazer', 'carer', 'racar', 'caers', 'racer'] => ['carer', 'racer']\n",
    "\n",
    "'laser', ['lazing', 'lazy',  'lacer'] => []\n",
    "```"
   ]
  },
  {
   "cell_type": "code",
   "execution_count": null,
   "metadata": {},
   "outputs": [],
   "source": [
    "def anagrams(word, words):\n",
    "    #your code here\n",
    "    pass"
   ]
  },
  {
   "cell_type": "code",
   "execution_count": null,
   "metadata": {},
   "outputs": [],
   "source": [
    "word, words = 'abba', ['aabb', 'abcd', 'bbaa', 'dada']\n"
   ]
  }
 ],
 "metadata": {
  "language_info": {
   "name": "python"
  },
  "orig_nbformat": 4
 },
 "nbformat": 4,
 "nbformat_minor": 2
}
