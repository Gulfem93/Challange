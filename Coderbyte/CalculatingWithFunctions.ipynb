{
 "cells": [
  {
   "cell_type": "markdown",
   "metadata": {},
   "source": [
    "```\n",
    "seven(times(five())) # must return 35\n",
    "four(plus(nine())) # must return 13\n",
    "eight(minus(three())) # must return 5\n",
    "six(divided_by(two())) # must return 3\n",
    "```"
   ]
  },
  {
   "cell_type": "code",
   "execution_count": 13,
   "metadata": {},
   "outputs": [],
   "source": [
    "def zero(arg=\"\"):  return eval(\"0\" + arg)\n",
    "def one(arg=\"\"):   return eval(\"1\" + arg)\n",
    "def two(arg=\"\"):   return eval(\"2\" + arg)\n",
    "def three(arg=\"\"): return eval(\"3\" + arg)\n",
    "def four(arg=\"\"):  return eval(\"4\" + arg)\n",
    "def five(arg=\"\"):  return eval(\"5\" + arg)\n",
    "def six(arg=\"\"):   return eval(\"6\" + arg)\n",
    "def seven(arg=\"\"): return eval(\"7\" + arg)\n",
    "def eight(arg=\"\"): return eval(\"8\" + arg)\n",
    "def nine(arg=\"\"):  return eval(\"9\" + arg)\n",
    "\n",
    "def plus(n):       return \"+%s\" % n\n",
    "def minus(n):      return \"-%s\" % n\n",
    "def times(n):      return \"*%s\" % n\n",
    "def divided_by(n): return \"/%s\" % n"
   ]
  },
  {
   "cell_type": "code",
   "execution_count": 14,
   "metadata": {},
   "outputs": [
    {
     "data": {
      "text/plain": [
       "35"
      ]
     },
     "execution_count": 14,
     "metadata": {},
     "output_type": "execute_result"
    }
   ],
   "source": [
    "seven(times(five()))"
   ]
  }
 ],
 "metadata": {
  "interpreter": {
   "hash": "8b03d4cd05d71d535371b426da57de743181e37d8974a9636efe6e78873daaed"
  },
  "kernelspec": {
   "display_name": "Python 3.9.6 64-bit",
   "language": "python",
   "name": "python3"
  },
  "language_info": {
   "codemirror_mode": {
    "name": "ipython",
    "version": 3
   },
   "file_extension": ".py",
   "mimetype": "text/x-python",
   "name": "python",
   "nbconvert_exporter": "python",
   "pygments_lexer": "ipython3",
   "version": "3.9.6"
  },
  "orig_nbformat": 4
 },
 "nbformat": 4,
 "nbformat_minor": 2
}
