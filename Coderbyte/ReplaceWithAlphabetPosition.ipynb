{
 "cells": [
  {
   "cell_type": "markdown",
   "metadata": {},
   "source": [
    "```\n",
    "(\"The sunset sets at twelve o' clock.\"), \"20 8 5 19 21 14 19 5 20 19 5 20 19 1 20 20 23 5 12 22 5 15 3 12 15 3 11\"\n",
    "(\"The narwhal bacons at midnight.\"), \"20 8 5 14 1 18 23 8 1 12 2 1 3 15 14 19 1 20 13 9 4 14 9 7 8 20\"\n",
    "```"
   ]
  },
  {
   "cell_type": "markdown",
   "metadata": {},
   "source": [
    "```\n",
    "A a\t-> 1\n",
    "B b\t-> 2\n",
    "C c\t-> 3\n",
    "D d\t-> 4\n",
    "E e\t-> 5\n",
    "F f\t-> 6\n",
    "G g\t-> 7\n",
    "H h -> 8\n",
    "I i\t-> 9\n",
    "J j\t-> 10\n",
    "K k\t-> 11\n",
    "L l\t-> 12\n",
    "M m\t-> 13\n",
    "N n\t-> 14 \n",
    "O o\t-> 15\n",
    "P p -> 16\n",
    "Q q\t-> 17\n",
    "R r\t-> 18\n",
    "S s\t-> 19\n",
    "T t\t-> 20\n",
    "U u\t-> 21\n",
    "V v\t-> 22\n",
    "W w\t-> 23\n",
    "X x\t-> 24\n",
    "Y y\t-> 25\n",
    "Z z -> 26\n",
    "```"
   ]
  },
  {
   "cell_type": "code",
   "execution_count": 12,
   "metadata": {},
   "outputs": [],
   "source": [
    "def alphabet_position(text):\n",
    "    alphabets = {\"a\": 1, \"b\": 2, \"c\":3, \"d\": 4, \"e\": 5, \"f\":6, \"g\": 7, \"h\":8, \"i\": 9, \"j\": 10, \"k\": 11, \"l\":12, \"m\": 13, \"n\": 14, \"o\": 15, \"p\": 16, \"q\": 17, \"r\": 18, \"s\": 19, \"t\": 20, \"u\": 21, \"v\": 22, \"w\": 23, \"x\": 24, \"y\": 25, \"z\": 26}\n",
    "\n",
    "    text = text.lower()\n",
    "\n",
    "    lastSentence = \"\"\n",
    "    for signWord in \".!'^+%&/()=??_-/*+\":\n",
    "        text = text.replace(signWord, \"\")\n",
    "\n",
    "    for character in text:\n",
    "        if character in alphabets.keys():\n",
    "            value = alphabets[character]\n",
    "\n",
    "            lastSentence += str(value) + \" \"\n",
    "            \n",
    "    return lastSentence"
   ]
  },
  {
   "cell_type": "code",
   "execution_count": 13,
   "metadata": {},
   "outputs": [
    {
     "data": {
      "text/plain": [
       "'20 8 5 14 1 18 23 8 1 12 2 1 3 15 14 19 1 20 13 9 4 14 9 7 8 20 '"
      ]
     },
     "execution_count": 13,
     "metadata": {},
     "output_type": "execute_result"
    }
   ],
   "source": [
    "alphabet_position(\"The narwhal bacons at midnight.\")"
   ]
  },
  {
   "cell_type": "code",
   "execution_count": 10,
   "metadata": {},
   "outputs": [
    {
     "name": "stdout",
     "output_type": "stream",
     "text": [
      "20 8 5 19 21 14 19 5 20 19 5 20 19 1 20 20 23 5 12 22 5 15 3 12 15 3 11 \n"
     ]
    }
   ],
   "source": [
    "alphabets = {\"a\": 1, \"b\": 2, \"c\":3, \"d\": 4, \"e\": 5, \"f\":6, \"g\": 7, \"h\":8, \"i\": 9, \"j\": 10, \"k\": 11, \"l\":12, \"m\": 13, \"n\": 14, \"o\": 15, \"p\": 16, \"q\": 17, \"r\": 18, \"s\": 19, \"t\": 20, \"u\": 21, \"v\": 22, \"w\": 23, \"x\": 24, \"y\": 25, \"z\": 26}\n",
    "\n",
    "sentence = \"The sunset sets at twelve o' clock.\"\n",
    "sentence = sentence.lower()\n",
    "\n",
    "lastSentence = \"\"\n",
    "for signWord in \".!'^+%&/()=??_-/*+\":\n",
    "    sentence = sentence.replace(signWord, \"\")\n",
    "\n",
    "for character in sentence:\n",
    "    if character in alphabets.keys():\n",
    "        value = alphabets[character]\n",
    "\n",
    "        lastSentence += str(value) + \" \"\n",
    "        \n",
    "print(lastSentence)"
   ]
  },
  {
   "cell_type": "markdown",
   "metadata": {},
   "source": []
  }
 ],
 "metadata": {
  "interpreter": {
   "hash": "8b03d4cd05d71d535371b426da57de743181e37d8974a9636efe6e78873daaed"
  },
  "kernelspec": {
   "display_name": "Python 3.9.6 64-bit",
   "language": "python",
   "name": "python3"
  },
  "language_info": {
   "codemirror_mode": {
    "name": "ipython",
    "version": 3
   },
   "file_extension": ".py",
   "mimetype": "text/x-python",
   "name": "python",
   "nbconvert_exporter": "python",
   "pygments_lexer": "ipython3",
   "version": "3.9.6"
  },
  "orig_nbformat": 4
 },
 "nbformat": 4,
 "nbformat_minor": 2
}
