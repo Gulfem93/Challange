{
 "cells": [
  {
   "cell_type": "markdown",
   "metadata": {},
   "source": [
    "Verilen bir sayının faktöriyelinde sondaki sıfırların sayısını hesaplayan bir program yazın.\n",
    "\n",
    "N! = 1 * 2 * 3 * ... * N\n",
    "\n",
    "1000!2568 basamaklı dikkatli olun ...\n",
    "\n",
    "```\n",
    "Örnekler\n",
    "zeros(6) = 1\n",
    "# 6! = 1 * 2 * 3 * 4 * 5 * 6 = 720 --> 1 trailing zero\n",
    "\n",
    "zeros(12) = 2\n",
    "# 12! = 479001600 --> 2 trailing zeros\n",
    "```\n",
    "---\n",
    "```\n",
    "zeros(0), 0, \"Testing with n = 0\"\n",
    "zeros(6), 1, \"Testing with n = 6\"\n",
    "zeros(30), 7, \"Testing with n = 30\"\n",
    "```\n",
    "İpucu: Faktöriyel hesaplamanız gerekmiyor. Sıfırların sayısını bulmanın başka bir yolunu bulun."
   ]
  },
  {
   "cell_type": "code",
   "execution_count": 12,
   "metadata": {},
   "outputs": [],
   "source": [
    "def zeros(n):\n",
    "    toplam = 1\n",
    "    sonuc = 0\n",
    "    if n == 0:\n",
    "        return 0\n",
    "    for i in range(1,n+1):\n",
    "        toplam = toplam*i\n",
    "\n",
    "    toplam_str = str(toplam)\n",
    "    toplam_str = toplam_str[::-1]\n",
    "    for i in toplam_str:\n",
    "        if i != \"0\":\n",
    "            break\n",
    "        sonuc = sonuc + 1\n",
    "    return sonuc"
   ]
  },
  {
   "cell_type": "code",
   "execution_count": null,
   "metadata": {},
   "outputs": [],
   "source": []
  }
 ],
 "metadata": {
  "interpreter": {
   "hash": "8b03d4cd05d71d535371b426da57de743181e37d8974a9636efe6e78873daaed"
  },
  "kernelspec": {
   "display_name": "Python 3.9.6 64-bit",
   "language": "python",
   "name": "python3"
  },
  "language_info": {
   "codemirror_mode": {
    "name": "ipython",
    "version": 3
   },
   "file_extension": ".py",
   "mimetype": "text/x-python",
   "name": "python",
   "nbconvert_exporter": "python",
   "pygments_lexer": "ipython3",
   "version": "3.9.6"
  },
  "orig_nbformat": 4
 },
 "nbformat": 4,
 "nbformat_minor": 2
}
