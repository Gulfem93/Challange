{
 "cells": [
  {
   "cell_type": "markdown",
   "metadata": {},
   "source": [
    "Pete biraz kek pişirmeyi sever. Bazı tarifleri ve malzemeleri var. Maalesef matematikte iyi değil. Tariflerine göre kaç tane kek pişirebileceğini bulmasına yardım edebilir misin?\n",
    "\n",
    "cakes()Tarifi (nesneyi) ve mevcut malzemeleri (aynı zamanda bir nesneyi) alan ve Pete'in pişirebileceği maksimum kek sayısını (tamsayı) döndüren bir fonksiyon yazın . Basit olması için miktarlar için herhangi bir birim yoktur (örneğin 1 libre un veya 200 g şeker sadece 1 veya 200'dür). Nesnelerde bulunmayan bileşenler 0 olarak kabul edilebilir.\n",
    "```\n",
    "Örnekler:\n",
    "\n",
    "##### must return 2\n",
    "cakes({flour: 500, sugar: 200, eggs: 1}, {flour: 1200, sugar: 1200, eggs: 5, milk: 200})\n",
    "##### must return 0\n",
    "cakes({apples: 3, flour: 300, sugar: 150, milk: 100, oil: 100}, {sugar: 500, flour: 2000, milk: 2000})\n",
    "```\n",
    "---\n",
    "\n",
    "```\n",
    "recipe = {\"flour\": 500, \"sugar\": 200, \"eggs\": 1}\n",
    "available = {\"flour\": 1200, \"sugar\": 1200, \"eggs\": 5, \"milk\": 200}\n",
    "(recipe, available), 2\n",
    "\n",
    "recipe = {\"apples\": 3, \"flour\": 300, \"sugar\": 150, \"milk\": 100, \"oil\": 100}\n",
    "available = {\"sugar\": 500, \"flour\": 2000, \"milk\": 2000}\n",
    "(recipe, available), 0\n",
    "```"
   ]
  },
  {
   "cell_type": "code",
   "execution_count": 44,
   "metadata": {},
   "outputs": [],
   "source": [
    "def cakes(recipe, available):\n",
    "    values = []\n",
    "    receive_keys = recipe.keys()\n",
    "    available_keys =available.keys()\n",
    "\n",
    "    num = 0\n",
    "    for r in receive_keys:\n",
    "        if r in available_keys:\n",
    "            num = num + 1\n",
    "\n",
    "    if num == len(receive_keys):\n",
    "        print(num)\n",
    "        for r in recipe:\n",
    "            for a in available:\n",
    "                if a == r:\n",
    "                    values.append(int(available[a]/recipe[r]))\n",
    "    else:\n",
    "        return 0\n",
    "    return min(values)"
   ]
  }
 ],
 "metadata": {
  "interpreter": {
   "hash": "8b03d4cd05d71d535371b426da57de743181e37d8974a9636efe6e78873daaed"
  },
  "kernelspec": {
   "display_name": "Python 3.9.6 64-bit",
   "language": "python",
   "name": "python3"
  },
  "language_info": {
   "codemirror_mode": {
    "name": "ipython",
    "version": 3
   },
   "file_extension": ".py",
   "mimetype": "text/x-python",
   "name": "python",
   "nbconvert_exporter": "python",
   "pygments_lexer": "ipython3",
   "version": "3.9.6"
  },
  "orig_nbformat": 4
 },
 "nbformat": 4,
 "nbformat_minor": 2
}
