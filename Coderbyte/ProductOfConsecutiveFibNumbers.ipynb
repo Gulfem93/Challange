{
 "cells": [
  {
   "cell_type": "markdown",
   "metadata": {},
   "source": [
    "'''\n",
    "Fibonacci = 0, 1, 1, 2, 3, 5, 8, 13 ....\n",
    "'''"
   ]
  },
  {
   "cell_type": "code",
   "execution_count": 102,
   "metadata": {},
   "outputs": [],
   "source": [
    "def productFib(prod):\n",
    "    FibonacciNumbers = list()\n",
    "\n",
    "    fib_1, fib_2 = 0, 1\n",
    "    fibSumLast = 0\n",
    "    \n",
    "    FibonacciNumbers.append(fib_1)\n",
    "    FibonacciNumbers.append(fib_2)\n",
    "    \n",
    "    n = 1\n",
    "    \n",
    "    while FibonacciNumbers[n-1] * FibonacciNumbers[n] <= prod :\n",
    "        fibSumLast = FibonacciNumbers[n-1] + FibonacciNumbers[n]\n",
    "        FibonacciNumbers.append(fibSumLast)\n",
    "        n += 1\n",
    "\n",
    "    if FibonacciNumbers[n-2] * FibonacciNumbers[n-1] == prod:\n",
    "        return [FibonacciNumbers[n-2], FibonacciNumbers[n-1], True]\n",
    "        \n",
    "    elif FibonacciNumbers[n-2] * FibonacciNumbers[n-1] != prod:\n",
    "        fibSumLast = FibonacciNumbers[n-1] + FibonacciNumbers[n]\n",
    "        FibonacciNumbers.append(fibSumLast)\n",
    "        return [FibonacciNumbers[n-1], FibonacciNumbers[n], False]  "
   ]
  },
  {
   "cell_type": "code",
   "execution_count": 103,
   "metadata": {},
   "outputs": [
    {
     "data": {
      "text/plain": [
       "[2, 3, False]"
      ]
     },
     "execution_count": 103,
     "metadata": {},
     "output_type": "execute_result"
    }
   ],
   "source": [
    "productFib(3)"
   ]
  }
 ],
 "metadata": {
  "interpreter": {
   "hash": "8b03d4cd05d71d535371b426da57de743181e37d8974a9636efe6e78873daaed"
  },
  "kernelspec": {
   "display_name": "Python 3.9.6 64-bit",
   "language": "python",
   "name": "python3"
  },
  "language_info": {
   "codemirror_mode": {
    "name": "ipython",
    "version": 3
   },
   "file_extension": ".py",
   "mimetype": "text/x-python",
   "name": "python",
   "nbconvert_exporter": "python",
   "pygments_lexer": "ipython3",
   "version": "3.9.6"
  },
  "orig_nbformat": 4
 },
 "nbformat": 4,
 "nbformat_minor": 2
}
