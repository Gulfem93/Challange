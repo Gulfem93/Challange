{
 "cells": [
  {
   "cell_type": "code",
   "execution_count": 37,
   "metadata": {},
   "outputs": [],
   "source": [
    "def ConsonantCount(strParam):\n",
    "    toplam = []\n",
    "    sonuc = []\n",
    "    sesli = \"aeiıoöuü\"\n",
    "\n",
    "    strParam = strParam.lower()\n",
    "    for i in strParam:\n",
    "        if i in sesli:\n",
    "            continue\n",
    "        else:\n",
    "            toplam.append(i)      \n",
    "        \n",
    "    \n",
    "    for i in toplam:\n",
    "        i = \"\".join(i)\n",
    "        if i.isalpha():\n",
    "            sonuc.append(i)\n",
    "\n",
    "    \n",
    "    return len(sonuc)"
   ]
  },
  {
   "cell_type": "code",
   "execution_count": 38,
   "metadata": {},
   "outputs": [
    {
     "name": "stdout",
     "output_type": "stream",
     "text": [
      "6\n"
     ]
    }
   ],
   "source": [
    "# keep this function call here \n",
    "print(ConsonantCount(input()))"
   ]
  }
 ],
 "metadata": {
  "interpreter": {
   "hash": "8b03d4cd05d71d535371b426da57de743181e37d8974a9636efe6e78873daaed"
  },
  "kernelspec": {
   "display_name": "Python 3.9.6 64-bit",
   "language": "python",
   "name": "python3"
  },
  "language_info": {
   "codemirror_mode": {
    "name": "ipython",
    "version": 3
   },
   "file_extension": ".py",
   "mimetype": "text/x-python",
   "name": "python",
   "nbconvert_exporter": "python",
   "pygments_lexer": "ipython3",
   "version": "3.9.6"
  },
  "orig_nbformat": 4
 },
 "nbformat": 4,
 "nbformat_minor": 2
}
