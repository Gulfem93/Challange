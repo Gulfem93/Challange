{
 "cells": [
  {
   "cell_type": "markdown",
   "metadata": {},
   "source": [
    "### Codeland Kullanıcı Adı Doğrulaması\n",
    "CodelandUsernameValidation( str ) işlevinin iletilen str parametresini almasını sağlayın ve aşağıdaki kurallara göre dizenin geçerli bir kullanıcı adı olup olmadığını belirleyin:\n",
    "\n",
    "1. Kullanıcı adı 4 ila 25 karakter arasındadır.\n",
    "2. Bir harfle başlamalıdır.\n",
    "3. Yalnızca harf, sayı ve alt çizgi karakteri içerebilir.\n",
    "4. Alt çizgi karakteri ile bitemez.\n",
    "\n",
    "Kullanıcı adı geçerliyse, programınız true dizesini , aksi takdirde false dizesini döndürmelidir .\n",
    "\n",
    "Girdi:\n",
    "```\n",
    "\"aa_\"\n",
    "```\n",
    "Çıktı:\n",
    "```\n",
    "False\n",
    "```\n",
    "\n",
    "Girdi:\n",
    "```\n",
    "u__hello_world123\n",
    "```\n",
    "Çıktı:\n",
    "```\n",
    "True\n",
    "```"
   ]
  },
  {
   "cell_type": "code",
   "execution_count": 74,
   "metadata": {},
   "outputs": [],
   "source": [
    "import re"
   ]
  },
  {
   "cell_type": "code",
   "execution_count": 75,
   "metadata": {},
   "outputs": [
    {
     "name": "stdout",
     "output_type": "stream",
     "text": [
      "true\n"
     ]
    }
   ],
   "source": [
    "def CodelandUsernameValidation(str):\n",
    "    pattern = re.compile(r\"^[a-zA-Z][\\w_]{2,23}[^_]$\")\n",
    "    res = pattern.match(str)\n",
    "    str = \"true\" if res else \"false\"\n",
    "    return str\n",
    "\n",
    "# keep this function call here \n",
    "print(CodelandUsernameValidation(input()))"
   ]
  },
  {
   "cell_type": "code",
   "execution_count": 76,
   "metadata": {},
   "outputs": [
    {
     "name": "stdout",
     "output_type": "stream",
     "text": [
      "None\n"
     ]
    }
   ],
   "source": [
    "pattern = re.compile(r\"^[a-zA-Z][\\w_][^_]$\")\n",
    "x = \"u__hello_world123\"\n",
    "print(pattern.match(x))"
   ]
  }
 ],
 "metadata": {
  "interpreter": {
   "hash": "8b03d4cd05d71d535371b426da57de743181e37d8974a9636efe6e78873daaed"
  },
  "kernelspec": {
   "display_name": "Python 3.9.6 64-bit",
   "language": "python",
   "name": "python3"
  },
  "language_info": {
   "codemirror_mode": {
    "name": "ipython",
    "version": 3
   },
   "file_extension": ".py",
   "mimetype": "text/x-python",
   "name": "python",
   "nbconvert_exporter": "python",
   "pygments_lexer": "ipython3",
   "version": "3.9.6"
  },
  "orig_nbformat": 4
 },
 "nbformat": 4,
 "nbformat_minor": 2
}
