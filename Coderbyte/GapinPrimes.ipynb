{
 "cells": [
  {
   "cell_type": "markdown",
   "metadata": {},
   "source": [
    "Examples:\n",
    "- gap(2, 5, 7) --> [5, 7] or (5, 7) or {5, 7}\n",
    "\n",
    "gap(2, 5, 5) --> nil. In C++ {0, 0}. In F# [||]. In Kotlin, Dart and Prolog return []`\n",
    "\n",
    "gap(4, 130, 200) --> [163, 167] or (163, 167) or {163, 167}\n",
    "\n",
    "([193, 197] is also such a 4-gap primes between 130 and 200 but it's not the first pair)"
   ]
  },
  {
   "cell_type": "code",
   "execution_count": 27,
   "metadata": {},
   "outputs": [],
   "source": [
    "def gap(g, m, n):\n",
    "    previous_prime = n\n",
    "    for i in range(m, n + 1):\n",
    "        if is_prime(i):\n",
    "            if i - previous_prime == g: \n",
    "                return [previous_prime, i]\n",
    "            previous_prime = i\n",
    "    return None\n",
    "            \n",
    "    \n",
    "def is_prime(n):\n",
    "    for i in range(2, int(n**.5 + 1)):\n",
    "        if n % i == 0:\n",
    "            return False\n",
    "    return True"
   ]
  },
  {
   "cell_type": "code",
   "execution_count": 28,
   "metadata": {},
   "outputs": [
    {
     "data": {
      "text/plain": [
       "[5, 7]"
      ]
     },
     "execution_count": 28,
     "metadata": {},
     "output_type": "execute_result"
    }
   ],
   "source": [
    "gap(2, 5, 7)"
   ]
  }
 ],
 "metadata": {
  "interpreter": {
   "hash": "8b03d4cd05d71d535371b426da57de743181e37d8974a9636efe6e78873daaed"
  },
  "kernelspec": {
   "display_name": "Python 3.9.6 64-bit",
   "language": "python",
   "name": "python3"
  },
  "language_info": {
   "codemirror_mode": {
    "name": "ipython",
    "version": 3
   },
   "file_extension": ".py",
   "mimetype": "text/x-python",
   "name": "python",
   "nbconvert_exporter": "python",
   "pygments_lexer": "ipython3",
   "version": "3.9.6"
  },
  "orig_nbformat": 4
 },
 "nbformat": 4,
 "nbformat_minor": 2
}
