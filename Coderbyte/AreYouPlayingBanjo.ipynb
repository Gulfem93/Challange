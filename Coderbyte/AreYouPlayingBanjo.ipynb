{
 "cells": [
  {
   "cell_type": "markdown",
   "metadata": {},
   "source": [
    "\"Banjo oynuyor musunuz?\" sorusuna cevap veren bir fonksiyon oluşturun.\n",
    "İsminiz \"R\" harfi veya küçük harf \"r\" ile başlıyorsa banjo oynuyorsunuz!\n",
    "\n",
    "İşlev, tek argümanı olarak bir isim alır ve aşağıdaki dizelerden birini döndürür:\n",
    "```\n",
    "name + \" plays banjo\" \n",
    "name + \" does not play banjo\"\n",
    "```\n",
    "```\n",
    "\"martin\", \"martin does not play banjo\"\n",
    "\"Rikke\", \"Rikke plays banjo\"\n",
    "\"bravo\", \"bravo does not play banjo\"\n",
    "\"rolf\", \"rolf plays banjo\"\n",
    "```"
   ]
  },
  {
   "cell_type": "code",
   "execution_count": 4,
   "metadata": {},
   "outputs": [],
   "source": [
    "def are_you_playing_banjo(name):\n",
    "    # Implement me!\n",
    "    if name[0] == \"R\" or name[0] == \"r\":\n",
    "        return name + \" plays banjo\"\n",
    "    else:\n",
    "        return name + \" does not play banjo\"\n"
   ]
  },
  {
   "cell_type": "code",
   "execution_count": 5,
   "metadata": {},
   "outputs": [
    {
     "data": {
      "text/plain": [
       "'rof plays banjo'"
      ]
     },
     "execution_count": 5,
     "metadata": {},
     "output_type": "execute_result"
    }
   ],
   "source": [
    "are_you_playing_banjo(\"rof\")"
   ]
  }
 ],
 "metadata": {
  "interpreter": {
   "hash": "8b03d4cd05d71d535371b426da57de743181e37d8974a9636efe6e78873daaed"
  },
  "kernelspec": {
   "display_name": "Python 3.9.6 64-bit",
   "language": "python",
   "name": "python3"
  },
  "language_info": {
   "codemirror_mode": {
    "name": "ipython",
    "version": 3
   },
   "file_extension": ".py",
   "mimetype": "text/x-python",
   "name": "python",
   "nbconvert_exporter": "python",
   "pygments_lexer": "ipython3",
   "version": "3.9.6"
  },
  "orig_nbformat": 4
 },
 "nbformat": 4,
 "nbformat_minor": 2
}
