{
 "cells": [
  {
   "cell_type": "markdown",
   "metadata": {},
   "source": [
    "Example:\n",
    "\n",
    "```\n",
    "\"Basic tests\"\n",
    "capitalize(\"abcdef\") ==> ['AbCdEf', 'aBcDeF']\n",
    "capitalize(\"codewars\") ==> ['CoDeWaRs', 'cOdEwArS']\n",
    "capitalize(\"abracadabra\") ==> ['AbRaCaDaBrA', 'aBrAcAdAbRa']\n",
    "capitalize(\"codewarriors\") ==> ['CoDeWaRrIoRs', 'cOdEwArRiOrS']\n",
    "```"
   ]
  },
  {
   "cell_type": "code",
   "execution_count": 19,
   "metadata": {},
   "outputs": [],
   "source": [
    "def capitalize(s):\n",
    "    sonuc1 = []\n",
    "    sonuc2 = []\n",
    "    \n",
    "    for i in range(len(s)):\n",
    "        if i%2 == 0:\n",
    "            harf = s[i]\n",
    "            harf = harf.upper()\n",
    "            sonuc1.append(harf)\n",
    "        else:\n",
    "            harf = s[i]\n",
    "            harf = harf.lower()\n",
    "            sonuc1.append(harf)\n",
    "    for i in range(len(s)):\n",
    "        if i%2 == 0:\n",
    "            harf = s[i]\n",
    "            harf = harf.lower()\n",
    "            sonuc2.append(harf)\n",
    "        else:\n",
    "            harf = s[i]\n",
    "            harf = harf.upper()\n",
    "            sonuc2.append(harf)\n",
    "\n",
    "    s1 = \"\".join(sonuc1)\n",
    "    s2 = \"\".join(sonuc2)\n",
    "    \n",
    "    return [s1, s2]"
   ]
  },
  {
   "cell_type": "code",
   "execution_count": 20,
   "metadata": {},
   "outputs": [
    {
     "data": {
      "text/plain": [
       "['CoDeWaRrIoRs', 'cOdEwArRiOrS']"
      ]
     },
     "execution_count": 20,
     "metadata": {},
     "output_type": "execute_result"
    }
   ],
   "source": [
    "capitalize(\"codewarriors\")"
   ]
  }
 ],
 "metadata": {
  "interpreter": {
   "hash": "8b03d4cd05d71d535371b426da57de743181e37d8974a9636efe6e78873daaed"
  },
  "kernelspec": {
   "display_name": "Python 3.9.6 64-bit",
   "language": "python",
   "name": "python3"
  },
  "language_info": {
   "codemirror_mode": {
    "name": "ipython",
    "version": 3
   },
   "file_extension": ".py",
   "mimetype": "text/x-python",
   "name": "python",
   "nbconvert_exporter": "python",
   "pygments_lexer": "ipython3",
   "version": "3.9.6"
  },
  "orig_nbformat": 4
 },
 "nbformat": 4,
 "nbformat_minor": 2
}
