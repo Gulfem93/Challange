{
 "cells": [
  {
   "cell_type": "markdown",
   "metadata": {},
   "source": [
    "Example:\n",
    "\n",
    "```\n",
    "count('aba') ==> {'a': 2, 'b': 1}\n",
    "count('') ==> {}\n",
    "```"
   ]
  },
  {
   "cell_type": "code",
   "execution_count": 22,
   "metadata": {},
   "outputs": [],
   "source": [
    "def count(karakter):\n",
    "    # The function code should be here\n",
    "    number = []\n",
    "    karakter_degeri = []\n",
    "    sonuc = {}\n",
    "\n",
    "    for i in karakter:\n",
    "        if i in karakter_degeri:\n",
    "            continue\n",
    "        else:\n",
    "            karakter_degeri.append(i)\n",
    "\n",
    "    for i in karakter_degeri:\n",
    "        x = karakter.count(str(i))\n",
    "        number.append(x)\n",
    "\n",
    "    for i in range(len(number)):\n",
    "        sonuc[karakter_degeri[i]] = number[i]\n",
    "        \n",
    "    return sonuc\n",
    "\n",
    "    "
   ]
  },
  {
   "cell_type": "code",
   "execution_count": 23,
   "metadata": {},
   "outputs": [
    {
     "data": {
      "text/plain": [
       "{'h': 1, 'e': 1, 'l': 2, 'o': 1}"
      ]
     },
     "execution_count": 23,
     "metadata": {},
     "output_type": "execute_result"
    }
   ],
   "source": [
    "count(\"hello\")"
   ]
  }
 ],
 "metadata": {
  "interpreter": {
   "hash": "8b03d4cd05d71d535371b426da57de743181e37d8974a9636efe6e78873daaed"
  },
  "kernelspec": {
   "display_name": "Python 3.9.6 64-bit",
   "language": "python",
   "name": "python3"
  },
  "language_info": {
   "codemirror_mode": {
    "name": "ipython",
    "version": 3
   },
   "file_extension": ".py",
   "mimetype": "text/x-python",
   "name": "python",
   "nbconvert_exporter": "python",
   "pygments_lexer": "ipython3",
   "version": "3.9.6"
  },
  "orig_nbformat": 4
 },
 "nbformat": 4,
 "nbformat_minor": 2
}
