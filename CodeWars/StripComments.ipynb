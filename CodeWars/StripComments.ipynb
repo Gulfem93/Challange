{
 "cells": [
  {
   "cell_type": "markdown",
   "metadata": {},
   "source": [
    "Çözümü, geçirilen bir dizi yorum işaretçisinden herhangi birini izleyen tüm metni çıkaracak şekilde tamamlayın. Satırın sonundaki herhangi bir boşluk da çıkarılmalıdır.\n",
    "\n",
    "Örnek vermek:\n",
    "\n",
    "Bir giriş dizesi verildi:\n",
    "```\n",
    "apples, pears # and bananas\n",
    "grapes\n",
    "bananas !apples\n",
    "Beklenen çıktı şöyle olacaktır:\n",
    "\n",
    "apples, pears\n",
    "grapes\n",
    "bananas\n",
    "Kod şöyle çağrılır:\n",
    "```\n",
    "##### result = solution(\"apples, pears # and bananas\\ngrapes\\nbananas !apples\", [\"#\", \"!\"])\n",
    "##### result should == \"apples, pears\\ngrapes\\nbananas\"\n",
    "\n",
    "```\n",
    "\"apples, pears # and bananas\\ngrapes\\nbananas !apples\", [\"#\", \"!\"], \"apples, pears\\ngrapes\\nbananas\"\n",
    "\"a #b\\nc\\nd $e f g\", [\"#\", \"$\"], \"a\\nc\\nd\"\n",
    "```"
   ]
  },
  {
   "cell_type": "code",
   "execution_count": 33,
   "metadata": {},
   "outputs": [],
   "source": [
    "def solution(string,markers):\n",
    "    s_list = string.split(\"\\n\")\n",
    "    n_list = []\n",
    "\n",
    "    for item in s_list:\n",
    "        s = \"\"\n",
    "        for char in item:\n",
    "            if char in markers:\n",
    "                break\n",
    "            else:\n",
    "                s = s + char\n",
    "        n_list.append(s.strip())\n",
    "    return \"\\n\".join(n_list)"
   ]
  },
  {
   "cell_type": "code",
   "execution_count": 34,
   "metadata": {},
   "outputs": [
    {
     "data": {
      "text/plain": [
       "'a\\nc\\nd'"
      ]
     },
     "execution_count": 34,
     "metadata": {},
     "output_type": "execute_result"
    }
   ],
   "source": [
    "string, markers = \"a #b\\nc\\nd $e f g\", [\"#\", \"$\"]\n",
    "solution(string,markers)"
   ]
  }
 ],
 "metadata": {
  "interpreter": {
   "hash": "8b03d4cd05d71d535371b426da57de743181e37d8974a9636efe6e78873daaed"
  },
  "kernelspec": {
   "display_name": "Python 3.9.6 64-bit",
   "language": "python",
   "name": "python3"
  },
  "language_info": {
   "codemirror_mode": {
    "name": "ipython",
    "version": 3
   },
   "file_extension": ".py",
   "mimetype": "text/x-python",
   "name": "python",
   "nbconvert_exporter": "python",
   "pygments_lexer": "ipython3",
   "version": "3.9.6"
  },
  "orig_nbformat": 4
 },
 "nbformat": 4,
 "nbformat_minor": 2
}
