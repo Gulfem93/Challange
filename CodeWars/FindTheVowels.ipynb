{
 "cells": [
  {
   "cell_type": "markdown",
   "metadata": {},
   "source": [
    "# Find the vowels\n",
    "\n",
    "vowels in the word super (the second and fourth letters).\n",
    "\n",
    "So given a string \"super\", we should return a list of [2, 4].\n",
    "\n",
    "\n",
    "\n",
    "```\n",
    "Some examples:\n",
    "Mmmm  => []\n",
    "Super => [2,4]\n",
    "Apple => [1,5]\n",
    "YoMama -> [1,2,4,6]\n",
    "```\n",
    "\n",
    "Vowels in this context refers to: a e i o u y (including upper case)\n",
    "This is indexed from [1..n] (not zero indexed!)\n",
    "\n"
   ]
  },
  {
   "cell_type": "code",
   "execution_count": 1,
   "metadata": {},
   "outputs": [
    {
     "data": {
      "text/plain": [
       "[1, 5]"
      ]
     },
     "execution_count": 1,
     "metadata": {},
     "output_type": "execute_result"
    }
   ],
   "source": [
    "def vowel_indices(word):\n",
    "  word = word.lower()\n",
    "  vowels = 'aeiouy'\n",
    "  indices = []\n",
    "  for i in range(len(word)):\n",
    "    if word[i] in vowels:\n",
    "      indices.append(i+1)\n",
    "  return indices\n",
    "vowel_indices(\"Apple\")"
   ]
  }
 ],
 "metadata": {
  "kernelspec": {
   "display_name": "base",
   "language": "python",
   "name": "python3"
  },
  "language_info": {
   "codemirror_mode": {
    "name": "ipython",
    "version": 3
   },
   "file_extension": ".py",
   "mimetype": "text/x-python",
   "name": "python",
   "nbconvert_exporter": "python",
   "pygments_lexer": "ipython3",
   "version": "3.12.7"
  }
 },
 "nbformat": 4,
 "nbformat_minor": 2
}
