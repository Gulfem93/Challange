{
 "cells": [
  {
   "cell_type": "markdown",
   "metadata": {},
   "source": [
    "# Sum of numbers from 0 to N\n",
    "\n",
    "We want to generate a function that computes the series starting from 0 and ending until the given number.\n",
    "\n",
    "**Example:**\n",
    "\n",
    "***input:***\n",
    "\n",
    "```\n",
    "> 6  \n",
    "```\n",
    "***Output:***\n",
    "\n",
    "0+1+2+3+4+5+6 = 21\n",
    "\n",
    "***input:***\n",
    "\n",
    "```\n",
    "> -15\n",
    "```\n",
    "***Output:***\n",
    "\n",
    "-15<0\n",
    "\n",
    "***input:***\n",
    "\n",
    "```\n",
    "> 0\n",
    "```\n",
    "***Output:***\n",
    "\n",
    "0==0\n",
    "\n"
   ]
  },
  {
   "cell_type": "code",
   "execution_count": 1,
   "metadata": {},
   "outputs": [
    {
     "data": {
      "text/plain": [
       "'0==0'"
      ]
     },
     "execution_count": 1,
     "metadata": {},
     "output_type": "execute_result"
    }
   ],
   "source": [
    "def show_sequence(n):\n",
    "  number = \"\"\n",
    "  if n < 0:\n",
    "    return f\"{n}<0\"\n",
    "  elif n == 0:\n",
    "    return f\"{n}=={n}\"\n",
    "  else:\n",
    "    sum_total = 0\n",
    "    for i in range(n+1):\n",
    "      sum_total += i\n",
    "      number += str(i)\n",
    "      if i != n:\n",
    "        number += \"+\"\n",
    "  return f\"{number} = {sum_total}\"\n",
    "\n",
    "show_sequence(0)"
   ]
  }
 ],
 "metadata": {
  "kernelspec": {
   "display_name": "base",
   "language": "python",
   "name": "python3"
  },
  "language_info": {
   "codemirror_mode": {
    "name": "ipython",
    "version": 3
   },
   "file_extension": ".py",
   "mimetype": "text/x-python",
   "name": "python",
   "nbconvert_exporter": "python",
   "pygments_lexer": "ipython3",
   "version": "3.12.7"
  }
 },
 "nbformat": 4,
 "nbformat_minor": 2
}
