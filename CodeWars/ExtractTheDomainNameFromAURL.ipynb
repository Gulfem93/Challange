{
 "cells": [
  {
   "cell_type": "markdown",
   "metadata": {},
   "source": [
    "Example:\n",
    "```\n",
    "domain_name(\"http://github.com/carbonfive/raygun\") == \"github\" \n",
    "domain_name(\"http://www.zombie-bites.com\") == \"zombie-bites\"\n",
    "domain_name(\"https://www.cnet.com\") == \"cnet\"\n",
    "```"
   ]
  },
  {
   "cell_type": "code",
   "execution_count": 40,
   "metadata": {},
   "outputs": [],
   "source": [
    "def domain_name(url):\n",
    "    dizi = []\n",
    "\n",
    "    \n",
    "    if url[:8] == \"https://\":\n",
    "        url = url.replace(\"https://\", \"\")\n",
    "        if url[:4] == \"www.\":\n",
    "            url = url.replace(\"www.\", \"\")\n",
    "            for i in url:\n",
    "                if i == \".\":\n",
    "                    break\n",
    "                else:\n",
    "                    dizi.append(i)\n",
    "\n",
    "        else:\n",
    "            for i in url:\n",
    "                if i == \".\":\n",
    "                    break\n",
    "                else:\n",
    "                    dizi.append(i)\n",
    "\n",
    "\n",
    "    elif url[:7] == \"http://\":\n",
    "        url = url.replace(\"http://\", \"\")\n",
    "        if url[:4] == \"www.\":\n",
    "            url = url.replace(\"www.\", \"\")\n",
    "            for i in url:\n",
    "                if i == \".\":\n",
    "                    break\n",
    "                else:\n",
    "                    dizi.append(i)\n",
    "\n",
    "        else:\n",
    "            for i in url:\n",
    "                if i == \".\":\n",
    "                    break\n",
    "                else:\n",
    "                    dizi.append(i)\n",
    "\n",
    "    else:\n",
    "        if url[:4] == \"www.\":\n",
    "            url = url.replace(\"www.\", \"\")\n",
    "            for i in url:\n",
    "                if i == \".\":\n",
    "                    break\n",
    "                else:\n",
    "                    dizi.append(i)\n",
    "\n",
    "        else:\n",
    "            for i in url:\n",
    "                if i == \".\":\n",
    "                    break\n",
    "                else:\n",
    "                    dizi.append(i)\n",
    "\n",
    "\n",
    "    return \"\".join(dizi)\n",
    "\n"
   ]
  },
  {
   "cell_type": "code",
   "execution_count": 41,
   "metadata": {},
   "outputs": [
    {
     "data": {
      "text/plain": [
       "'youtube'"
      ]
     },
     "execution_count": 41,
     "metadata": {},
     "output_type": "execute_result"
    }
   ],
   "source": [
    "domain_name(\"https://youtube.com\")"
   ]
  }
 ],
 "metadata": {
  "interpreter": {
   "hash": "8b03d4cd05d71d535371b426da57de743181e37d8974a9636efe6e78873daaed"
  },
  "kernelspec": {
   "display_name": "Python 3.9.6 64-bit",
   "language": "python",
   "name": "python3"
  },
  "language_info": {
   "codemirror_mode": {
    "name": "ipython",
    "version": 3
   },
   "file_extension": ".py",
   "mimetype": "text/x-python",
   "name": "python",
   "nbconvert_exporter": "python",
   "pygments_lexer": "ipython3",
   "version": "3.9.6"
  },
  "orig_nbformat": 4
 },
 "nbformat": 4,
 "nbformat_minor": 2
}
