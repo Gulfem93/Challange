{
 "cells": [
  {
   "cell_type": "markdown",
   "metadata": {},
   "source": [
    "# Exclamation marks series ##6: Remove n exclamation marks in the sentence from left to right\n",
    "\n",
    "\n",
    "\n",
    "```\n",
    "remove(\"Hi!\",1) === \"Hi\"\n",
    "remove(\"Hi!\",100) === \"Hi\"\n",
    "remove(\"Hi!!!\",1) === \"Hi!!\"\n",
    "remove(\"Hi!!!\",100) === \"Hi\"\n",
    "remove(\"!Hi\",1) === \"Hi\"\n",
    "remove(\"!Hi!\",1) === \"Hi!\"\n",
    "remove(\"!Hi!\",100) === \"Hi\"\n",
    "remove(\"!!!Hi !!hi!!! !hi\",1) === \"!!Hi !!hi!!! !hi\"\n",
    "remove(\"!!!Hi !!hi!!! !hi\",3) === \"Hi !!hi!!! !hi\"\n",
    "remove(\"!!!Hi !!hi!!! !hi\",5) === \"Hi hi!!! !hi\"\n",
    "remove(\"!!!Hi !!hi!!! !hi\",100) === \"Hi hi hi\"\n",
    "```\n",
    "\n"
   ]
  },
  {
   "cell_type": "code",
   "execution_count": null,
   "metadata": {},
   "outputs": [],
   "source": [
    "def remove(st, n):\n",
    "  if n > len(st):\n",
    "    return st.replace(\"!\", \"\")\n",
    "  else:\n",
    "    return st.replace(\"!\", \"\", n)\n",
    "\n",
    "remove(\"Hi!\",100)"
   ]
  }
 ],
 "metadata": {
  "kernelspec": {
   "display_name": "base",
   "language": "python",
   "name": "python3"
  },
  "language_info": {
   "name": "python",
   "version": "3.12.7"
  }
 },
 "nbformat": 4,
 "nbformat_minor": 2
}
