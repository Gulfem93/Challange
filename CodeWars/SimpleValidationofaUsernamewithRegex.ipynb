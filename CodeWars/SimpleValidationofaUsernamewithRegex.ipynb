{
 "cells": [
  {
   "cell_type": "markdown",
   "metadata": {},
   "source": [
    "# Simple validation of a username with regex\n",
    "\n",
    "* lowercase letters,\n",
    "* numbers,\n",
    "* underscore\n",
    "\n",
    "Length should be between 4 and 16 characters (both included).\n",
    "\n",
    "\n",
    "\n",
    "```\n",
    "validate_usr('asddsa')  -------------------------------------------->  True\n",
    "validate_usr('a')  ------------------------------------------------->  False\n",
    "validate_usr('Hass')  ---------------------------------------------->  False\n",
    "validate_usr('Hasd_12assssssasasasasasaasasasasas') ---------------->  False\n",
    "validate_usr('')  -------------------------------------------------->  False\n",
    "validate_usr('____')  ---------------------------------------------->  True\n",
    "validate_usr('012')  ----------------------------------------------->  False\n",
    "validate_usr('p1pp1')  --------------------------------------------->  True\n",
    "validate_usr('asd43 34')  ------------------------------------------>  False\n",
    "validate_usr('asd43_34')  ------------------------------------------>  True\n",
    "validate_usr('too_long_username_with_only_valid_characters_123')  -->  False\n",
    "```"
   ]
  },
  {
   "cell_type": "code",
   "execution_count": 1,
   "metadata": {},
   "outputs": [
    {
     "data": {
      "text/plain": [
       "False"
      ]
     },
     "execution_count": 1,
     "metadata": {},
     "output_type": "execute_result"
    }
   ],
   "source": [
    "def validate_usr(username):\n",
    "  if len(username) < 4 or len(username) > 16:\n",
    "    return False\n",
    "  else:\n",
    "    for i in username:\n",
    "      if not i.isalnum() and i != '_':\n",
    "        return False\n",
    "      elif i.isupper():\n",
    "        return False\n",
    "    return True\n",
    "validate_usr('asd43 34')"
   ]
  }
 ],
 "metadata": {
  "kernelspec": {
   "display_name": "base",
   "language": "python",
   "name": "python3"
  },
  "language_info": {
   "codemirror_mode": {
    "name": "ipython",
    "version": 3
   },
   "file_extension": ".py",
   "mimetype": "text/x-python",
   "name": "python",
   "nbconvert_exporter": "python",
   "pygments_lexer": "ipython3",
   "version": "3.12.7"
  }
 },
 "nbformat": 4,
 "nbformat_minor": 2
}
