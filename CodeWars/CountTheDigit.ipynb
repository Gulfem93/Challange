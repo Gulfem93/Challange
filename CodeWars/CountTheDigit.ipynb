{
 "cells": [
  {
   "cell_type": "markdown",
   "metadata": {},
   "source": [
    "Example\n",
    "```\n",
    "n = 10, d = 1 \n",
    "the k*k are 0, 1, 4, 9, 16, 25, 36, 49, 64, 81, 100\n",
    "We are using the digit 1 in: 1, 16, 81, 100. The total count is then 4.\n",
    "\n",
    "nb_dig(25, 1) returns 11 since\n",
    "the k*k that contain the digit 1 are:\n",
    "1, 16, 81, 100, 121, 144, 169, 196, 361, 441.\n",
    "So there are 11 digits 1 for the squares of numbers between 0 and 25.\n",
    "```"
   ]
  },
  {
   "cell_type": "code",
   "execution_count": 34,
   "metadata": {},
   "outputs": [],
   "source": [
    "def nb_dig(n, d):\n",
    "    return sum(str(i*i).count(str(d)) for i in range(n+1))"
   ]
  },
  {
   "cell_type": "code",
   "execution_count": 35,
   "metadata": {},
   "outputs": [
    {
     "data": {
      "text/plain": [
       "4"
      ]
     },
     "execution_count": 35,
     "metadata": {},
     "output_type": "execute_result"
    }
   ],
   "source": [
    "nb_dig(10, 1)"
   ]
  }
 ],
 "metadata": {
  "interpreter": {
   "hash": "8b03d4cd05d71d535371b426da57de743181e37d8974a9636efe6e78873daaed"
  },
  "kernelspec": {
   "display_name": "Python 3.9.6 64-bit",
   "language": "python",
   "name": "python3"
  },
  "language_info": {
   "codemirror_mode": {
    "name": "ipython",
    "version": 3
   },
   "file_extension": ".py",
   "mimetype": "text/x-python",
   "name": "python",
   "nbconvert_exporter": "python",
   "pygments_lexer": "ipython3",
   "version": "3.9.6"
  },
  "orig_nbformat": 4
 },
 "nbformat": 4,
 "nbformat_minor": 2
}
