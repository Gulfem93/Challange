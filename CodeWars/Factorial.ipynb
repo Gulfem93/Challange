{
 "cells": [
  {
   "cell_type": "markdown",
   "metadata": {},
   "source": [
    "# Factorial\n",
    "\n",
    "\n",
    "\n",
    "```\n",
    "(0, 1)   --> 0! --> 1\n",
    "(1, 1)   --> 1! --> 1\n",
    "(2, 2)   --> 2! --> 1.2\n",
    "(3, 6)   --> 3! --> 1.2.3\n",
    "(4, 24)  --> 4! --> 1.2.3.4\n",
    "(5, 120) --> 5! --> 1.2.3.4.5\n",
    "(6, 720) --> 6! --> 1.2.3.4.5.6\n",
    "```\n",
    "\n"
   ]
  },
  {
   "cell_type": "code",
   "execution_count": null,
   "metadata": {},
   "outputs": [],
   "source": [
    "def factorial(n):\n",
    "  return 1 if n == 1 or n == 0 else factorial(n-1) * n\n",
    "\n",
    "factorial(6)"
   ]
  }
 ],
 "metadata": {
  "kernelspec": {
   "display_name": "base",
   "language": "python",
   "name": "python3"
  },
  "language_info": {
   "name": "python",
   "version": "3.12.7"
  }
 },
 "nbformat": 4,
 "nbformat_minor": 2
}
