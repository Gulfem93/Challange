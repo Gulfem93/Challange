{
 "cells": [
  {
   "cell_type": "markdown",
   "metadata": {},
   "source": [
    "### Example\n",
    "\n",
    "Girdi:\n",
    "```\n",
    "\"How can mirrors be real if our eyes aren't real\"\n",
    "```\n",
    "Cıktı:\n",
    "```\n",
    "\"How Can Mirrors Be Real If Our Eyes Aren't Real\"\n",
    "```"
   ]
  },
  {
   "cell_type": "code",
   "execution_count": 1,
   "metadata": {},
   "outputs": [],
   "source": [
    "def to_jaden_case(string):\n",
    "    string = string.split()\n",
    "    sonuc = []\n",
    "    for i in string:\n",
    "        i = str(i).capitalize()\n",
    "        sonuc.append(i)\n",
    "    \n",
    "    return \" \".join(sonuc)"
   ]
  },
  {
   "cell_type": "code",
   "execution_count": 2,
   "metadata": {},
   "outputs": [
    {
     "data": {
      "text/plain": [
       "\"How Can Mirrors Be Real If Our Eyes Aren't Real\""
      ]
     },
     "execution_count": 2,
     "metadata": {},
     "output_type": "execute_result"
    }
   ],
   "source": [
    "to_jaden_case(\"How can mirrors be real if our eyes aren't real\")"
   ]
  }
 ],
 "metadata": {
  "interpreter": {
   "hash": "8b03d4cd05d71d535371b426da57de743181e37d8974a9636efe6e78873daaed"
  },
  "kernelspec": {
   "display_name": "Python 3.9.6 64-bit",
   "language": "python",
   "name": "python3"
  },
  "language_info": {
   "codemirror_mode": {
    "name": "ipython",
    "version": 3
   },
   "file_extension": ".py",
   "mimetype": "text/x-python",
   "name": "python",
   "nbconvert_exporter": "python",
   "pygments_lexer": "ipython3",
   "version": "3.9.6"
  },
  "orig_nbformat": 4
 },
 "nbformat": 4,
 "nbformat_minor": 2
}
