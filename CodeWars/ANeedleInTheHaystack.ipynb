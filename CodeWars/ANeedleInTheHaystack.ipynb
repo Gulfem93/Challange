{
 "cells": [
  {
   "cell_type": "markdown",
   "metadata": {},
   "source": [
    "Samanlıkta iğneyi bulabilir misin?\n",
    "\n",
    "findNeedle()Bir arraydolu çöp alan ama bir tane içeren bir fonksiyon yazın\"needle\"\n",
    "\n",
    "İşleviniz iğneyi bulduktan sonra şunu söyleyen bir mesaj (dize olarak) döndürmelidir:\n",
    "\n",
    "\"found the needle at position \"artı indexiğneyi buldu, yani:\n",
    "\n",
    "find_needle(['hay', 'junk', 'hay', 'hay', 'moreJunk', 'needle', 'randomJunk'])\n",
    "geri dönmeli \"found the needle at position 5\"(COBOL olarak \"found the needle at position 6\")\n",
    "\n",
    "```\n",
    "['3', '123124234', None, 'needle', 'world', 'hay', 2, '3', True, False] => 'found the needle at position 3'\n",
    "['283497238987234', 'a dog', 'a cat', 'some random junk', 'a piece of hay', 'needle', 'something somebody lost a while ago'] => 'found the needle at position 5'\n",
    "[1,2,3,4,5,6,7,8,8,7,5,4,3,4,5,6,67,5,5,3,3,4,2,34,234,23,4,234,324,324,'needle',1,2,3,4,5,5,6,5,4,32,3,45,54] => 'found the needle at position 30'\n",
    "```"
   ]
  },
  {
   "cell_type": "code",
   "execution_count": 6,
   "metadata": {},
   "outputs": [],
   "source": [
    "def find_needle(haystack):\n",
    "    i = 0\n",
    "    for x in haystack:\n",
    "        if x != \"needle\":\n",
    "            i = i + 1\n",
    "        elif x == \"needle\":\n",
    "            return \"found the needle at position \" + str(i)\n",
    "    "
   ]
  },
  {
   "cell_type": "code",
   "execution_count": 7,
   "metadata": {},
   "outputs": [
    {
     "data": {
      "text/plain": [
       "'found the needle at position 5'"
      ]
     },
     "execution_count": 7,
     "metadata": {},
     "output_type": "execute_result"
    }
   ],
   "source": [
    "find_needle(['hay', 'junk', 'hay', 'hay', 'moreJunk', 'needle', 'randomJunk'])"
   ]
  }
 ],
 "metadata": {
  "interpreter": {
   "hash": "8b03d4cd05d71d535371b426da57de743181e37d8974a9636efe6e78873daaed"
  },
  "kernelspec": {
   "display_name": "Python 3.9.6 64-bit",
   "language": "python",
   "name": "python3"
  },
  "language_info": {
   "codemirror_mode": {
    "name": "ipython",
    "version": 3
   },
   "file_extension": ".py",
   "mimetype": "text/x-python",
   "name": "python",
   "nbconvert_exporter": "python",
   "pygments_lexer": "ipython3",
   "version": "3.9.6"
  },
  "orig_nbformat": 4
 },
 "nbformat": 4,
 "nbformat_minor": 2
}
