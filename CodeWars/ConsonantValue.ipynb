{
 "cells": [
  {
   "cell_type": "markdown",
   "metadata": {},
   "source": [
    "# Consonant value\n",
    "\n",
    "\n",
    "Given a lowercase string that has alphabetic characters only and no spaces, return the highest value of consonant substrings. Consonants are any letters of the alphabet except \"aeiou\".\n",
    "\n",
    "We shall assign the following values: a = 1, b = 2, c = 3, .... z = 26.\n",
    "\n",
    "For example, for the word \"zodiacs\", let's cross out the vowels. We get: \"z o d ia c\"\n",
    "\n",
    "\n",
    "```\n",
    "\"zodiac\" -> 26\n",
    "```\n",
    "\n",
    "The consonant substrings are: \"z\", \"d\" and \"c\" with values \"z\" = 26, \"d\" = 4 and \"c\" = 3. The highest is 26.\n",
    "\n",
    "\n",
    "\n",
    "```\n",
    "\"strength\" -> 57\n",
    "```\n",
    "\n",
    "The consonant substrings are: \"str\" and \"ngth\" with values \"str\" = 19 + 20 + 18 = 57 and \"ngth\" = 14 + 7 + 20 + 8 = 49. The highest is 57.\n",
    "\n",
    "\n",
    "\n"
   ]
  },
  {
   "cell_type": "code",
   "execution_count": 1,
   "metadata": {},
   "outputs": [
    {
     "data": {
      "text/plain": [
       "57"
      ]
     },
     "execution_count": 1,
     "metadata": {},
     "output_type": "execute_result"
    }
   ],
   "source": [
    "def solve(s):\n",
    "  exception = \"aeiou\"\n",
    "  max_value = 0\n",
    "  current_value = 0\n",
    "  for i in s:\n",
    "    if i not in exception:\n",
    "      current_value += ord(i) - 96\n",
    "    else:\n",
    "      if current_value > max_value:\n",
    "        max_value = current_value\n",
    "      current_value = 0\n",
    "  if current_value > max_value:\n",
    "    max_value = current_value\n",
    "  return max_value\n",
    "\n",
    "solve(\"strength\")"
   ]
  }
 ],
 "metadata": {
  "kernelspec": {
   "display_name": "base",
   "language": "python",
   "name": "python3"
  },
  "language_info": {
   "codemirror_mode": {
    "name": "ipython",
    "version": 3
   },
   "file_extension": ".py",
   "mimetype": "text/x-python",
   "name": "python",
   "nbconvert_exporter": "python",
   "pygments_lexer": "ipython3",
   "version": "3.12.7"
  }
 },
 "nbformat": 4,
 "nbformat_minor": 2
}
