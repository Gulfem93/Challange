{
 "cells": [
  {
   "cell_type": "markdown",
   "metadata": {},
   "source": [
    "# **Alphabet war**\n",
    "\n",
    "left side letters and their power:\n",
    "\n",
    "*   w - 4\n",
    "*   p - 3\n",
    "*   b - 2\n",
    "*   s - 1\n",
    "\n",
    "The right side letters and their power:\n",
    "\n",
    "*   m - 4\n",
    "*   q - 3\n",
    "*   d - 2\n",
    "*   z - 1\n",
    "\n",
    "\n",
    "```\n",
    "AlphabetWar(\"z\");        //=> Right side wins!\n",
    "AlphabetWar(\"zdqmwpbs\"); //=> Let's fight again!\n",
    "AlphabetWar(\"zzzzs\");    //=> Right side wins!\n",
    "AlphabetWar(\"wwwwwwz\");  //=> Left side wins!\n",
    "```"
   ]
  },
  {
   "cell_type": "code",
   "execution_count": 1,
   "metadata": {},
   "outputs": [
    {
     "data": {
      "text/plain": [
       "\"Let's fight again!\""
      ]
     },
     "execution_count": 1,
     "metadata": {},
     "output_type": "execute_result"
    }
   ],
   "source": [
    "def alphabet_war(fight):\n",
    "  sol = {'w':4, 'p':3, 'b':2, 's':1}\n",
    "  sag = {'m':4, 'q':3, 'd':2, 'z':1}\n",
    "  sol_toplam = 0\n",
    "  sag_toplam = 0\n",
    "  for i in fight:\n",
    "    if i in sol:\n",
    "      sol_toplam += sol[i]\n",
    "    elif i in sag:\n",
    "      sag_toplam += sag[i]\n",
    "\n",
    "  return \"Left side wins!\" if sol_toplam > sag_toplam else \"Right side wins!\" if sag_toplam > sol_toplam else \"Let's fight again!\"\n",
    "\n",
    "alphabet_war(\"zdqmwpbs\")"
   ]
  },
  {
   "cell_type": "code",
   "execution_count": null,
   "metadata": {},
   "outputs": [],
   "source": []
  }
 ],
 "metadata": {
  "kernelspec": {
   "display_name": "base",
   "language": "python",
   "name": "python3"
  },
  "language_info": {
   "codemirror_mode": {
    "name": "ipython",
    "version": 3
   },
   "file_extension": ".py",
   "mimetype": "text/x-python",
   "name": "python",
   "nbconvert_exporter": "python",
   "pygments_lexer": "ipython3",
   "version": "3.12.7"
  }
 },
 "nbformat": 4,
 "nbformat_minor": 2
}
