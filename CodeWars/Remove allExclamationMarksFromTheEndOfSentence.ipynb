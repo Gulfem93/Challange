{
 "cells": [
  {
   "cell_type": "markdown",
   "metadata": {},
   "source": [
    "# Exclamation marks series \n",
    "### 2: Remove all exclamation marks from the end of sentence\n",
    "\n",
    "Description:\n",
    "Remove all exclamation marks from the end of sentence.\n",
    "\n",
    "**Examples**\n",
    "\n",
    "\n",
    "\n",
    "```\n",
    "\"Hi!\"     ---> \"Hi\"\n",
    "\"Hi!!!\"   ---> \"Hi\"\n",
    "\"!Hi\"     ---> \"!Hi\"\n",
    "\"!Hi!\"    ---> \"!Hi\"\n",
    "\"Hi! Hi!\" ---> \"Hi! Hi\"\n",
    "\"Hi\"      ---> \"Hi\"\n",
    "```\n",
    "\n"
   ]
  },
  {
   "cell_type": "code",
   "execution_count": null,
   "metadata": {},
   "outputs": [],
   "source": [
    "def remove(s):\n",
    "    return s.rstrip(\"!\")\n",
    "remove(\"Hi!\")"
   ]
  }
 ],
 "metadata": {
  "kernelspec": {
   "display_name": "base",
   "language": "python",
   "name": "python3"
  },
  "language_info": {
   "name": "python",
   "version": "3.12.7"
  }
 },
 "nbformat": 4,
 "nbformat_minor": 2
}
