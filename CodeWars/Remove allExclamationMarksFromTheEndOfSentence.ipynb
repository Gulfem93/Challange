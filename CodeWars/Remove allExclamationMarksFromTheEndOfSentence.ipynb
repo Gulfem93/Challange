{
 "cells": [
  {
   "cell_type": "markdown",
   "metadata": {},
   "source": [
    "# Exclamation marks series \n",
    "### 2: Remove all exclamation marks from the end of sentence\n",
    "\n",
    "Description:\n",
    "Remove all exclamation marks from the end of sentence.\n",
    "\n",
    "**Examples**\n",
    "\n",
    "\n",
    "\n",
    "```\n",
    "\"Hi!\"     ---> \"Hi\"\n",
    "\"Hi!!!\"   ---> \"Hi\"\n",
    "\"!Hi\"     ---> \"!Hi\"\n",
    "\"!Hi!\"    ---> \"!Hi\"\n",
    "\"Hi! Hi!\" ---> \"Hi! Hi\"\n",
    "\"Hi\"      ---> \"Hi\"\n",
    "```\n",
    "\n"
   ]
  },
  {
   "cell_type": "code",
   "execution_count": 1,
   "metadata": {},
   "outputs": [
    {
     "data": {
      "text/plain": [
       "'Hi'"
      ]
     },
     "execution_count": 1,
     "metadata": {},
     "output_type": "execute_result"
    }
   ],
   "source": [
    "def remove(s):\n",
    "    return s.rstrip(\"!\")\n",
    "remove(\"Hi!\")"
   ]
  }
 ],
 "metadata": {
  "kernelspec": {
   "display_name": "base",
   "language": "python",
   "name": "python3"
  },
  "language_info": {
   "codemirror_mode": {
    "name": "ipython",
    "version": 3
   },
   "file_extension": ".py",
   "mimetype": "text/x-python",
   "name": "python",
   "nbconvert_exporter": "python",
   "pygments_lexer": "ipython3",
   "version": "3.12.7"
  }
 },
 "nbformat": 4,
 "nbformat_minor": 2
}
