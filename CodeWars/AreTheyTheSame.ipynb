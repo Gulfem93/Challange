{
 "cells": [
  {
   "cell_type": "markdown",
   "metadata": {},
   "source": [
    "```\n",
    "    a1 = [121, 144, 19, 161, 19, 144, 19, 11]\n",
    "    a2 = [11*11, 121*121, 144*144, 19*19, 161*161, 19*19, 144*144, 19*19]\n",
    "    test.assert_equals(comp(a1, a2), True)\n",
    "```\n",
    "\n",
    "```\n",
    "    a1 = [121, 144, 19, 161, 19, 144, 19, 11]\n",
    "    a2 = [11*21, 121*121, 144*144, 19*19, 161*161, 19*19, 144*144, 19*19]\n",
    "    test.assert_equals(comp(a1, a2), False)\n",
    "```"
   ]
  },
  {
   "cell_type": "code",
   "execution_count": 113,
   "metadata": {},
   "outputs": [],
   "source": [
    "def comp(array1, array2):\n",
    "    dizi = []\n",
    "    son = []\n",
    "    for x in array1:\n",
    "        a = x * x\n",
    "        dizi.append(a)\n",
    "\n",
    "    for i in array2:\n",
    "        if i in dizi:\n",
    "            son.append(\"True\")\n",
    "        else:\n",
    "            son.append(\"False\")\n",
    "    \n",
    "    if \"False\" in son:\n",
    "        return False\n",
    "    else:\n",
    "        return True"
   ]
  },
  {
   "cell_type": "code",
   "execution_count": 114,
   "metadata": {},
   "outputs": [],
   "source": [
    "def comp1(array1, array2):\n",
    "    try:\n",
    "        return sorted([i ** 2 for i in array1]) == sorted(array2)\n",
    "    except:\n",
    "        return False"
   ]
  },
  {
   "cell_type": "code",
   "execution_count": 115,
   "metadata": {},
   "outputs": [
    {
     "data": {
      "text/plain": [
       "False"
      ]
     },
     "execution_count": 115,
     "metadata": {},
     "output_type": "execute_result"
    }
   ],
   "source": [
    "a1 = [121, 144, 19, 161, 19, 144, 19, 11]\n",
    "a2 = [11*11, 121*121, 144*144, 19*19, 161*161, 19*19, 144*144, 19*19]\n",
    "a3 = [11*21, 121*121, 144*144, 19*19, 161*161, 19*19, 144*144, 19*19]\n",
    "a4 = [11*11, 121*121, 144*144, 190*190, 161*161, 19*19, 144*144, 19*19]\n",
    "comp1(a1, a4)"
   ]
  }
 ],
 "metadata": {
  "interpreter": {
   "hash": "8b03d4cd05d71d535371b426da57de743181e37d8974a9636efe6e78873daaed"
  },
  "kernelspec": {
   "display_name": "Python 3.9.6 64-bit",
   "language": "python",
   "name": "python3"
  },
  "language_info": {
   "codemirror_mode": {
    "name": "ipython",
    "version": 3
   },
   "file_extension": ".py",
   "mimetype": "text/x-python",
   "name": "python",
   "nbconvert_exporter": "python",
   "pygments_lexer": "ipython3",
   "version": "3.9.6"
  },
  "orig_nbformat": 4
 },
 "nbformat": 4,
 "nbformat_minor": 2
}
