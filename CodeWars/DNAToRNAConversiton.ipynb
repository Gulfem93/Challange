{
 "cells": [
  {
   "cell_type": "markdown",
   "metadata": {},
   "source": [
    "Deoksiribonükleik asit, DNA biyolojik sistemlerde birincil bilgi depolama molekülüdür. Guanin ('G'), Sitozin ('C'), Adenin ('A') ve Timin ('T') olmak üzere dört nükleik asit bazından oluşur.\n",
    "\n",
    "Ribonükleik asit, RNA, hücrelerdeki birincil haberci moleküldür. RNA, kimyasal yapısı DNA'dan biraz farklıdır ve Timin içermez. RNA'da Timin, başka bir nükleik asit Urasil ('U') ile değiştirilir.\n",
    "\n",
    "Belirli bir DNA dizisini RNA'ya çeviren bir işlev oluşturun.\n",
    "\n",
    "```\n",
    "Örneğin:\n",
    "\n",
    "\"GCAT\"  =>  \"GCAU\"\n",
    "```\n",
    "Giriş dizesi isteğe bağlı uzunlukta olabilir - özellikle boş olabilir. Tüm girdilerin geçerli olacağı garanti edilir, yani her girdi dizesi yalnızca 'G', 'C've 'A'/veya öğelerinden oluşacaktır 'T'.\n",
    "\n",
    "\n",
    "```\n",
    "\"TTTT\" => \"UUUU\"\n",
    "\"GCAT\"=> \"GCAU\"\n",
    "\"GACCGCCGCC\" => \"GACCGCCGCC\"\n",
    "```"
   ]
  },
  {
   "cell_type": "code",
   "execution_count": 11,
   "metadata": {},
   "outputs": [],
   "source": [
    "# G --> C\n",
    "# A --> T\n",
    "\n",
    "def dna_to_rna(dna):\n",
    "    if 'T' in dna:\n",
    "        dna = dna.replace(\"T\", \"U\")\n",
    "    \n",
    "    return dna\n",
    "    "
   ]
  },
  {
   "cell_type": "code",
   "execution_count": 12,
   "metadata": {},
   "outputs": [
    {
     "data": {
      "text/plain": [
       "'GCAU'"
      ]
     },
     "execution_count": 12,
     "metadata": {},
     "output_type": "execute_result"
    }
   ],
   "source": [
    "text = \"GCAT\"\n",
    "dna_to_rna(text)"
   ]
  }
 ],
 "metadata": {
  "interpreter": {
   "hash": "8b03d4cd05d71d535371b426da57de743181e37d8974a9636efe6e78873daaed"
  },
  "kernelspec": {
   "display_name": "Python 3.9.6 64-bit",
   "language": "python",
   "name": "python3"
  },
  "language_info": {
   "codemirror_mode": {
    "name": "ipython",
    "version": 3
   },
   "file_extension": ".py",
   "mimetype": "text/x-python",
   "name": "python",
   "nbconvert_exporter": "python",
   "pygments_lexer": "ipython3",
   "version": "3.9.6"
  },
  "orig_nbformat": 4
 },
 "nbformat": 4,
 "nbformat_minor": 2
}
