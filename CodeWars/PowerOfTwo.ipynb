{
 "cells": [
  {
   "cell_type": "markdown",
   "metadata": {},
   "source": [
    "# Power of two\n",
    "\n",
    "Complete the function power_of_two/powerOfTwo (or equivalent, depending on your language) that determines if a given non-negative integer is a power of two. From the corresponding Wikipedia entry:\n",
    "\n",
    "a power of two is a number of the form 2n where n is an integer, i.e. the result of exponentiation with number two as the base and integer n as the exponent.\n",
    "\n",
    "You may assume the input is always valid.\n",
    "\n",
    "Examples\n",
    "\n",
    "\n",
    "```\n",
    "power_of_two(1024) ==> True\n",
    "power_of_two(4096) ==> True\n",
    "power_of_two(333)  ==> False\n",
    "```\n",
    "\n",
    "Beware of certain edge cases - for example, 1 is a power of 2 since 2^0 = 1 and 0 is not a power of 2.\n",
    "\n"
   ]
  },
  {
   "cell_type": "code",
   "execution_count": 2,
   "metadata": {},
   "outputs": [
    {
     "name": "stdout",
     "output_type": "stream",
     "text": [
      "True\n",
      "False\n",
      "False\n"
     ]
    }
   ],
   "source": [
    "def power_of_two(x):\n",
    "  return bin(x).count('1') == 1\n",
    "\n",
    "print(power_of_two(1024))\n",
    "print(power_of_two(38685626227668133590597628))\n",
    "print(power_of_two(333))"
   ]
  }
 ],
 "metadata": {
  "kernelspec": {
   "display_name": "base",
   "language": "python",
   "name": "python3"
  },
  "language_info": {
   "codemirror_mode": {
    "name": "ipython",
    "version": 3
   },
   "file_extension": ".py",
   "mimetype": "text/x-python",
   "name": "python",
   "nbconvert_exporter": "python",
   "pygments_lexer": "ipython3",
   "version": "3.12.7"
  }
 },
 "nbformat": 4,
 "nbformat_minor": 2
}
