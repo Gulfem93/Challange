{
 "cells": [
  {
   "cell_type": "markdown",
   "metadata": {},
   "source": [
    "# Sum of Cubes\n",
    "\n",
    "Write a function that takes a positive integer n, sums all the cubed values from 1 to n (inclusive), and returns that sum.\n",
    "\n",
    "Assume that the input n will always be a positive integer.\n",
    "\n",
    "Examples: (Input --> output)\n",
    "\n",
    "\n",
    "\n",
    "```\n",
    "2 --> 9 (sum of the cubes of 1 and 2 is 1 + 8)\n",
    "3 --> 36 (sum of the cubes of 1, 2, and 3 is 1 + 8 + 27)\n",
    "```"
   ]
  },
  {
   "cell_type": "code",
   "execution_count": 1,
   "metadata": {},
   "outputs": [],
   "source": [
    "def sum_cubes(n):\n",
    "    return sum(i**3 for i in range(0,n+1))"
   ]
  }
 ],
 "metadata": {
  "kernelspec": {
   "display_name": "base",
   "language": "python",
   "name": "python3"
  },
  "language_info": {
   "codemirror_mode": {
    "name": "ipython",
    "version": 3
   },
   "file_extension": ".py",
   "mimetype": "text/x-python",
   "name": "python",
   "nbconvert_exporter": "python",
   "pygments_lexer": "ipython3",
   "version": "3.12.7"
  }
 },
 "nbformat": 4,
 "nbformat_minor": 2
}
