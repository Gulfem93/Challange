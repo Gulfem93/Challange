{
 "cells": [
  {
   "cell_type": "markdown",
   "metadata": {},
   "source": [
    "Move the first letter of each word to the end of it, then add \"ay\" to the end of the word. Leave punctuation marks untouched.\n",
    "```\n",
    "Examples\n",
    "pig_it('Pig latin is cool') # igPay atinlay siay oolcay\n",
    "pig_it('Hello world !')     # elloHay orldway !\n",
    "```\n",
    "---\n",
    "```\n",
    "'Pig latin is cool','igPay atinlay siay oolcay'\n",
    "'This is my string','hisTay siay ymay tringsay'\n",
    "```"
   ]
  },
  {
   "cell_type": "code",
   "execution_count": null,
   "metadata": {},
   "outputs": [],
   "source": [
    "def pig_it(text):\n",
    "    lst = text.split()\n",
    "    return ' '.join( [word[1:] + word[:1] + 'ay' if word.isalpha() else word for word in lst])"
   ]
  },
  {
   "cell_type": "code",
   "execution_count": 44,
   "metadata": {},
   "outputs": [],
   "source": [
    "def pig_it(text):\n",
    "    #text_split = text.split()\n",
    "    son = []\n",
    "    x, sayilmayan =\"\", \".,!?:\"\n",
    "\n",
    "    if text[len(text) - 1] in sayilmayan:\n",
    "        last = text[len(text) - 1]\n",
    "        text = text.replace(text[len(text) - 1], \"\")\n",
    "        text_split = text.split()\n",
    "        for i in text_split:\n",
    "            for k in range(1, len(i)):\n",
    "                x = x + i[k]\n",
    "            x = x + i[0]+ \"ay \"\n",
    "        x = x + last\n",
    "        son.append(x)\n",
    "        x = x.split()\n",
    "        print(\" \".join(x))\n",
    "\n",
    "    else:\n",
    "        text_split = text.split()\n",
    "        for i in text_split:\n",
    "            for k in range(1, len(i)):\n",
    "                x = x + i[k]\n",
    "            x = x + i[0]+ \"ay \"\n",
    "        son.append(x)\n",
    "        x = x.split()\n",
    "        return \" \".join(x)\n",
    "\n",
    "\n"
   ]
  }
 ],
 "metadata": {
  "interpreter": {
   "hash": "8b03d4cd05d71d535371b426da57de743181e37d8974a9636efe6e78873daaed"
  },
  "kernelspec": {
   "display_name": "Python 3.9.6 64-bit",
   "language": "python",
   "name": "python3"
  },
  "language_info": {
   "codemirror_mode": {
    "name": "ipython",
    "version": 3
   },
   "file_extension": ".py",
   "mimetype": "text/x-python",
   "name": "python",
   "nbconvert_exporter": "python",
   "pygments_lexer": "ipython3",
   "version": "3.9.6"
  },
  "orig_nbformat": 4
 },
 "nbformat": 4,
 "nbformat_minor": 2
}
