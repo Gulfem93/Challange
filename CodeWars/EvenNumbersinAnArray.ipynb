{
 "cells": [
  {
   "cell_type": "markdown",
   "metadata": {},
   "source": [
    "# Even numbers in an array\n",
    "\n",
    "Given an array of numbers, return a new array of length number containing the last even numbers from the original array (in the same order). The original array will be not empty and will contain at least \"number\" even numbers.\n",
    "\n",
    "Ex:\n",
    "\n",
    "\n",
    "```\n",
    "([1, 2, 3, 4, 5, 6, 7, 8, 9], 3)  -------------------> [4, 6, 8]\n",
    "([-22, 5, 3, 11, 26, -6, -7, -8, -9, -8, 26], 2) ----> [-8, 26]\n",
    "([6, -25, 3, 7, 5, 5, 7, -3, 23], 1) ----------------> [6]\n",
    "```"
   ]
  },
  {
   "cell_type": "code",
   "execution_count": null,
   "metadata": {},
   "outputs": [],
   "source": [
    "def even_numbers(arr,n):\n",
    "  even_arr = []\n",
    "  for i in arr:\n",
    "    if i % 2 == 0:\n",
    "      even_arr.append(i)\n",
    "  return even_arr[-n:]\n",
    "\n",
    "even_numbers([6, -25, 3, 7, 5, 5, 7, -3, 23], 1)"
   ]
  }
 ],
 "metadata": {
  "kernelspec": {
   "display_name": "base",
   "language": "python",
   "name": "python3"
  },
  "language_info": {
   "name": "python",
   "version": "3.12.7"
  }
 },
 "nbformat": 4,
 "nbformat_minor": 2
}
