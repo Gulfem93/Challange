{
 "cells": [
  {
   "cell_type": "markdown",
   "metadata": {},
   "source": [
    "# Maximum subarray sum\n",
    "\n",
    "Maksimum toplam alt dizi problemi, bir tamsayı dizisi veya listesindeki bitişik bir alt dizinin maksimum toplamını bulmaktan oluşur:\n",
    "\n",
    "\n",
    "\n",
    "```\n",
    "max_sequence([-2, 1, -3, 4, -1, 2, 1, -5, 4])\n",
    "# should be 6: [4, -1, 2, 1]\n",
    "```\n",
    "\n",
    "Kolay durum, listenin yalnızca pozitif sayılardan oluşması ve maksimum toplamın tüm dizinin toplamı olmasıdır. Liste yalnızca negatif sayılardan oluşuyorsa, bunun yerine 0 döndürün.\n",
    "\n",
    "Boş liste en büyük toplamı sıfır olarak kabul edilir. Boş liste veya dizinin aynı zamanda geçerli bir alt liste/alt dizi olduğunu unutmayın."
   ]
  },
  {
   "cell_type": "code",
   "execution_count": 2,
   "metadata": {},
   "outputs": [
    {
     "name": "stdout",
     "output_type": "stream",
     "text": [
      "0\n",
      "6\n"
     ]
    }
   ],
   "source": [
    "def max_sequence(arr):\n",
    "  max_sum = 0\n",
    "  negative_count = 0\n",
    "\n",
    "  for i in arr:\n",
    "    if i < 0:\n",
    "      negative_count += 1\n",
    "\n",
    "  if negative_count == len(arr):\n",
    "    return 0\n",
    "\n",
    "  for i in range(len(arr)):\n",
    "    for j in range(i, len(arr)):\n",
    "      if sum(arr[i:j+1]) > max_sum:\n",
    "        max_sum = sum(arr[i:j+1])\n",
    "\n",
    "  return max_sum\n",
    "\n",
    "print(max_sequence([-2, -1, -3, -4, -1, -2, -1, -5, -4]))\n",
    "print(max_sequence([-2, 1, -3, 4, -1, 2, 1, -5, 4]))\n"
   ]
  }
 ],
 "metadata": {
  "kernelspec": {
   "display_name": "base",
   "language": "python",
   "name": "python3"
  },
  "language_info": {
   "codemirror_mode": {
    "name": "ipython",
    "version": 3
   },
   "file_extension": ".py",
   "mimetype": "text/x-python",
   "name": "python",
   "nbconvert_exporter": "python",
   "pygments_lexer": "ipython3",
   "version": "3.12.7"
  }
 },
 "nbformat": 4,
 "nbformat_minor": 2
}
