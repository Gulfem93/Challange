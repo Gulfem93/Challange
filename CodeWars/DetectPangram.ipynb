{
 "cells": [
  {
   "cell_type": "markdown",
   "metadata": {},
   "source": [
    "Pangram, alfabedeki her bir harfi en az bir kez içeren bir cümledir. Örneğin, \"Hızlı kahverengi tilki tembel köpeğin üzerinden atlar\" cümlesi bir pangramdır, çünkü AZ harflerini en az bir kez kullanır (büyük/küçük harf önemli değildir).\n",
    "\n",
    "Bir dize verildiğinde, bunun bir pangram olup olmadığını tespit edin. Varsa True, değilse False döndürün. Rakamları ve noktalama işaretlerini dikkate almayın.\n",
    "\n",
    "```\n",
    "pangram = \"The quick, brown fox jumps over the lazy dog!\"\n",
    "is_pangram(pangram) == > True\n",
    "```"
   ]
  },
  {
   "cell_type": "code",
   "execution_count": 43,
   "metadata": {},
   "outputs": [],
   "source": [
    "import string\n",
    "\n",
    "def is_pangram(s):\n",
    "\n",
    "    number = []\n",
    "    karakter_degeri = []\n",
    "    karakter = []\n",
    "    sonuc = {}\n",
    "    dizi = []\n",
    "    new = s.split()\n",
    "\n",
    "    for i in new:\n",
    "        i = \"\".join(i)\n",
    "        if i.isalpha():\n",
    "            i = i.lower()\n",
    "            dizi.append(i)\n",
    "    print(dizi)\n",
    "    \n",
    "    for s in range(len(dizi)):\n",
    "        veri = \"\".join(dizi[s])\n",
    "        for i in veri:\n",
    "            if i in karakter:\n",
    "                continue\n",
    "            else:\n",
    "                karakter.append(i)\n",
    "\n",
    "        for i in veri:\n",
    "            x = veri.count(str(i))\n",
    "            number.append(x)\n",
    "        sonuc[karakter[s]] = number[i]\n",
    "\n",
    "    \n",
    "    return len(karakter_degeri), len(number)"
   ]
  },
  {
   "cell_type": "code",
   "execution_count": 44,
   "metadata": {},
   "outputs": [
    {
     "name": "stdout",
     "output_type": "stream",
     "text": [
      "['the', 'brown', 'fox', 'jumps', 'over', 'the', 'lazy']\n"
     ]
    },
    {
     "data": {
      "text/plain": [
       "(20, 27)"
      ]
     },
     "execution_count": 44,
     "metadata": {},
     "output_type": "execute_result"
    }
   ],
   "source": [
    "pangram = \"The quick, brown fox jumps over the lazy dog!\"\n",
    "is_pangram(pangram)"
   ]
  }
 ],
 "metadata": {
  "interpreter": {
   "hash": "8b03d4cd05d71d535371b426da57de743181e37d8974a9636efe6e78873daaed"
  },
  "kernelspec": {
   "display_name": "Python 3.9.6 64-bit",
   "language": "python",
   "name": "python3"
  },
  "language_info": {
   "codemirror_mode": {
    "name": "ipython",
    "version": 3
   },
   "file_extension": ".py",
   "mimetype": "text/x-python",
   "name": "python",
   "nbconvert_exporter": "python",
   "pygments_lexer": "ipython3",
   "version": "3.9.6"
  },
  "orig_nbformat": 4
 },
 "nbformat": 4,
 "nbformat_minor": 2
}
