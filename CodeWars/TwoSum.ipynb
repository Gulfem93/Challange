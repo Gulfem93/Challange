{
 "cells": [
  {
   "cell_type": "markdown",
   "metadata": {},
   "source": [
    "### Example\n",
    "\n",
    "```\n",
    "two_sum([1,2,3], 4)) ==> [0,2]\n",
    "two_sum([1234,5678,9012], 14690) ==> [1,2]\n",
    "two_sum([2,2,3], 4) ==> [0,1]\n",
    "```"
   ]
  },
  {
   "cell_type": "code",
   "execution_count": 23,
   "metadata": {},
   "outputs": [],
   "source": [
    "def two_sum(numbers, target):\n",
    "    toplam = 0\n",
    "\n",
    "    for i in range(len(numbers)):\n",
    "        for j in range(1, len(numbers)):\n",
    "            if i == j:\n",
    "                continue\n",
    "            else:\n",
    "                toplam = numbers[i] + numbers[j]\n",
    "                if toplam == target:\n",
    "                    return [i, j]\n",
    "    \n"
   ]
  },
  {
   "cell_type": "code",
   "execution_count": 24,
   "metadata": {},
   "outputs": [
    {
     "data": {
      "text/plain": [
       "[1, 2]"
      ]
     },
     "execution_count": 24,
     "metadata": {},
     "output_type": "execute_result"
    }
   ],
   "source": [
    "two_sum([1234,5678,9012], 14690)"
   ]
  }
 ],
 "metadata": {
  "interpreter": {
   "hash": "8b03d4cd05d71d535371b426da57de743181e37d8974a9636efe6e78873daaed"
  },
  "kernelspec": {
   "display_name": "Python 3.9.6 64-bit",
   "language": "python",
   "name": "python3"
  },
  "language_info": {
   "codemirror_mode": {
    "name": "ipython",
    "version": 3
   },
   "file_extension": ".py",
   "mimetype": "text/x-python",
   "name": "python",
   "nbconvert_exporter": "python",
   "pygments_lexer": "ipython3",
   "version": "3.9.6"
  },
  "orig_nbformat": 4
 },
 "nbformat": 4,
 "nbformat_minor": 2
}
