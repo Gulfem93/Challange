{
 "cells": [
  {
   "cell_type": "markdown",
   "metadata": {},
   "source": [
    "# Check same case\n",
    "\n",
    "*   If either of the characters is not a letter, return -1\n",
    "*   If both characters are the same case, return 1\n",
    "*   If both characters are letters, but not the same case, return 0\n",
    "\n",
    "\n",
    "\n",
    "```\n",
    "'a' and 'g' returns 1\n",
    "\n",
    "'A' and 'C' returns 1\n",
    "\n",
    "'b' and 'G' returns 0\n",
    "\n",
    "'B' and 'g' returns 0\n",
    "\n",
    "'0' and '?' returns -1\n",
    "```\n"
   ]
  },
  {
   "cell_type": "code",
   "execution_count": 3,
   "metadata": {},
   "outputs": [
    {
     "name": "stdout",
     "output_type": "stream",
     "text": [
      "1\n",
      "0\n"
     ]
    }
   ],
   "source": [
    "def same_case(a, b):\n",
    "  if a.isalpha() and b.isalpha():\n",
    "    if a.isupper() and b.isupper():\n",
    "      return 1\n",
    "    elif a.islower() and b.islower():\n",
    "      return 1\n",
    "    else:\n",
    "      return 0\n",
    "  else:\n",
    "    return -1\n",
    "\n",
    "print(same_case(\"a\", \"g\"))\n",
    "print(same_case(\"a\", \"G\"))"
   ]
  }
 ],
 "metadata": {
  "kernelspec": {
   "display_name": "base",
   "language": "python",
   "name": "python3"
  },
  "language_info": {
   "codemirror_mode": {
    "name": "ipython",
    "version": 3
   },
   "file_extension": ".py",
   "mimetype": "text/x-python",
   "name": "python",
   "nbconvert_exporter": "python",
   "pygments_lexer": "ipython3",
   "version": "3.12.7"
  }
 },
 "nbformat": 4,
 "nbformat_minor": 2
}
