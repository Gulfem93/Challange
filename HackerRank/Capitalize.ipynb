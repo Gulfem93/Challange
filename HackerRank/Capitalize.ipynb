{
 "cells": [
  {
   "cell_type": "markdown",
   "id": "e0310baa",
   "metadata": {},
   "source": [
    "##### İnput\n",
    "\n",
    "    chris alan\n",
    "\n",
    "###### Output\n",
    "\n",
    "    Chris Alan"
   ]
  },
  {
   "cell_type": "code",
   "execution_count": 27,
   "id": "0bbe9f92",
   "metadata": {},
   "outputs": [],
   "source": [
    "def solve(s):\n",
    "    for x in s[:].split():\n",
    "        s = s.replace(x, x.capitalize())\n",
    "    return s"
   ]
  },
  {
   "cell_type": "code",
   "execution_count": 29,
   "id": "eab3e7ad",
   "metadata": {},
   "outputs": [
    {
     "data": {
      "text/plain": [
       "'Chris Alan'"
      ]
     },
     "execution_count": 29,
     "metadata": {},
     "output_type": "execute_result"
    }
   ],
   "source": [
    "solve(\"chris alan\")"
   ]
  }
 ],
 "metadata": {
  "kernelspec": {
   "display_name": "Python 3 (ipykernel)",
   "language": "python",
   "name": "python3"
  },
  "language_info": {
   "codemirror_mode": {
    "name": "ipython",
    "version": 3
   },
   "file_extension": ".py",
   "mimetype": "text/x-python",
   "name": "python",
   "nbconvert_exporter": "python",
   "pygments_lexer": "ipython3",
   "version": "3.9.6"
  }
 },
 "nbformat": 4,
 "nbformat_minor": 5
}
