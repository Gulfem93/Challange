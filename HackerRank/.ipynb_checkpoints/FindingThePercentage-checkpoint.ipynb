{
 "cells": [
  {
   "cell_type": "markdown",
   "id": "47e73b12",
   "metadata": {},
   "source": [
    "#### Input\n",
    "\n",
    "    3\n",
    "    Krishna 67 68 69\n",
    "    Arjun 70 98 63\n",
    "    Malika 52 56 60\n",
    "    Malika\n",
    "    \n",
    "#### Output\n",
    "\n",
    "    56.00"
   ]
  },
  {
   "cell_type": "code",
   "execution_count": 6,
   "id": "1a92b6ec",
   "metadata": {},
   "outputs": [
    {
     "name": "stdout",
     "output_type": "stream",
     "text": [
      "2\n",
      "Harsh 25 26.5 28\n",
      "Anurag 26 28 30\n",
      "Harsh\n"
     ]
    }
   ],
   "source": [
    "n = int(input())\n",
    "student_marks = {}\n",
    "for _ in range(n):\n",
    "    name, *line = input().split()\n",
    "    scores = list(map(float, line))\n",
    "    student_marks[name] = scores\n",
    "query_name = input()"
   ]
  },
  {
   "cell_type": "code",
   "execution_count": 9,
   "id": "434269c2",
   "metadata": {},
   "outputs": [
    {
     "name": "stdout",
     "output_type": "stream",
     "text": [
      "26.50\n"
     ]
    }
   ],
   "source": [
    "for keyvalue in student_marks.items():\n",
    "    key, value = keyvalue[0], keyvalue[1]\n",
    "    if key == query_name:\n",
    "        #print(sum(value)/len(value))\n",
    "        print(\"{0:.2f}\".format(sum(value)/len(value)))"
   ]
  }
 ],
 "metadata": {
  "kernelspec": {
   "display_name": "Python 3 (ipykernel)",
   "language": "python",
   "name": "python3"
  },
  "language_info": {
   "codemirror_mode": {
    "name": "ipython",
    "version": 3
   },
   "file_extension": ".py",
   "mimetype": "text/x-python",
   "name": "python",
   "nbconvert_exporter": "python",
   "pygments_lexer": "ipython3",
   "version": "3.9.6"
  }
 },
 "nbformat": 4,
 "nbformat_minor": 5
}
