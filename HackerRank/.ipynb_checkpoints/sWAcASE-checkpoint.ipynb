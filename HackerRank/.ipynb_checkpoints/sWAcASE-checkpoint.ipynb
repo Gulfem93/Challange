{
 "cells": [
  {
   "cell_type": "markdown",
   "id": "39e51e88",
   "metadata": {},
   "source": [
    "##### İnput \n",
    "    \n",
    "    HackerRank.com presents \"Pythonist 2\".\n",
    "\n",
    "##### Output\n",
    "    \n",
    "    hACKERrANK.COM PRESENTS \"pYTHONIST 2\"."
   ]
  },
  {
   "cell_type": "code",
   "execution_count": 7,
   "id": "6285ceca",
   "metadata": {},
   "outputs": [],
   "source": [
    "def swap_case(s):\n",
    "    last = \"\"\n",
    "    for i in x:\n",
    "        if i.islower() == True:\n",
    "            last += i.upper()\n",
    "        elif i.isupper() == True:\n",
    "            last += i.lower()\n",
    "        elif i.isidentifier() == False:\n",
    "            last += i\n",
    "    return last"
   ]
  },
  {
   "cell_type": "code",
   "execution_count": 8,
   "id": "a1d847f4",
   "metadata": {},
   "outputs": [
    {
     "data": {
      "text/plain": [
       "'hACKERrANK.COM PRESENTS'"
      ]
     },
     "execution_count": 8,
     "metadata": {},
     "output_type": "execute_result"
    }
   ],
   "source": [
    "x = \"HackerRank.com presents\"\n",
    "\n",
    "swap_case(x)"
   ]
  },
  {
   "cell_type": "code",
   "execution_count": null,
   "id": "16cf5bd6",
   "metadata": {},
   "outputs": [],
   "source": []
  }
 ],
 "metadata": {
  "kernelspec": {
   "display_name": "Python 3 (ipykernel)",
   "language": "python",
   "name": "python3"
  },
  "language_info": {
   "codemirror_mode": {
    "name": "ipython",
    "version": 3
   },
   "file_extension": ".py",
   "mimetype": "text/x-python",
   "name": "python",
   "nbconvert_exporter": "python",
   "pygments_lexer": "ipython3",
   "version": "3.9.6"
  }
 },
 "nbformat": 4,
 "nbformat_minor": 5
}
