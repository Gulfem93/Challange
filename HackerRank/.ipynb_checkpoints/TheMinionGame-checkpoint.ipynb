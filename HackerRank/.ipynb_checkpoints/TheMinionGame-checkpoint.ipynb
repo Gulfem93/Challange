{
 "cells": [
  {
   "cell_type": "code",
   "execution_count": 2,
   "id": "3776a79a",
   "metadata": {},
   "outputs": [
    {
     "name": "stdout",
     "output_type": "stream",
     "text": [
      "Stuart 12\n"
     ]
    }
   ],
   "source": [
    "string = \"BANANA\"\n",
    "\n",
    "\n",
    "vowels = 'AEIOU'\n",
    "Stuart_score, Kevin_score = 0, 0\n",
    "\n",
    "length = len(string)\n",
    "\n",
    "for start_idx in range(length):\n",
    "    score = length - start_idx\n",
    "    if string[start_idx] in vowels:\n",
    "        Kevin_score += score\n",
    "    else:\n",
    "        Stuart_score += score\n",
    "        \n",
    "if Stuart_score == Kevin_score:\n",
    "    print('Draw')\n",
    "    \n",
    "if Stuart_score > Kevin_score:\n",
    "    print('Stuart {}'.format(Stuart_score))\n",
    "    \n",
    "if Stuart_score < Kevin_score:\n",
    "    print('Kevin {}'.format(Kevin_score))"
   ]
  },
  {
   "cell_type": "code",
   "execution_count": null,
   "id": "6c1d50b6",
   "metadata": {},
   "outputs": [],
   "source": []
  }
 ],
 "metadata": {
  "kernelspec": {
   "display_name": "Python 3 (ipykernel)",
   "language": "python",
   "name": "python3"
  },
  "language_info": {
   "codemirror_mode": {
    "name": "ipython",
    "version": 3
   },
   "file_extension": ".py",
   "mimetype": "text/x-python",
   "name": "python",
   "nbconvert_exporter": "python",
   "pygments_lexer": "ipython3",
   "version": "3.9.6"
  }
 },
 "nbformat": 4,
 "nbformat_minor": 5
}
