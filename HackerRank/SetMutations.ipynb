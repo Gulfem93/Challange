{
 "cells": [
  {
   "cell_type": "markdown",
   "metadata": {},
   "source": [
    ". Örnek Girdi:\n",
    "````\n",
    "16\n",
    "1 2 3 4 5 6 7 8 9 10 11 12 13 14 24 52\n",
    "4\n",
    "intersection_update 10\n",
    "2 3 5 6 8 9 1 4 7 11\n",
    "update 2\n",
    "55 66\n",
    "symmetric_difference_update 5\n",
    "22 7 35 62 58\n",
    "difference_update 7\n",
    "11 22 35 55 58 62 66\n",
    "````\n",
    ". Örnek Çıktı:\n",
    "\n",
    "```\n",
    "38\n",
    "```\n",
    "Açıklama\n",
    "```\n",
    "İlk işlemden sonra ( kavşak_güncelleme işlemi ) şunu elde ederiz:\n",
    "set A = set([2 3 4 5 6 7 8 9 11])\n",
    "\n",
    "İkinci işlemden sonra ( güncelleme işlemi ), şunu elde ederiz:\n",
    "set A = set([2 3 4 5 6 7 8 9 11 55 66])\n",
    "\n",
    "Üçüncü işlemden sonra ( smetric_difference_update işlemi ) şunu elde ederiz:\n",
    "set A = set([2 3 4 5 6 7 8 9 11 22 35 55 58 62 66])\n",
    "\n",
    "Dördüncü işlemden sonra ( fark_güncelleme işlemi ) şunu elde ederiz:\n",
    "set A = set([2 3 4 5 6 7 8 9])\n",
    "\n",
    "kümedeki elemanların toplamı  bu işlemlerden sonra 38.\n",
    "```"
   ]
  },
  {
   "cell_type": "code",
   "execution_count": null,
   "metadata": {},
   "outputs": [],
   "source": [
    "# Enter your code here. Read input from STDIN. Print output to STDOUT\n",
    "\n",
    "(_, A) = (int(input()),set(map(int, input().split())))\n",
    "B = int(input())\n",
    "for _ in range(B):\n",
    "    (command, newSet) = (input().split()[0],set(map(int, input().split())))\n",
    "    getattr(A, command)(newSet)    \n",
    "\n",
    "print (sum(A))"
   ]
  }
 ],
 "metadata": {
  "interpreter": {
   "hash": "8b03d4cd05d71d535371b426da57de743181e37d8974a9636efe6e78873daaed"
  },
  "kernelspec": {
   "display_name": "Python 3.9.6 64-bit",
   "language": "python",
   "name": "python3"
  },
  "language_info": {
   "codemirror_mode": {
    "name": "ipython",
    "version": 3
   },
   "file_extension": ".py",
   "mimetype": "text/x-python",
   "name": "python",
   "nbconvert_exporter": "python",
   "pygments_lexer": "ipython3",
   "version": "3.9.6"
  },
  "orig_nbformat": 4
 },
 "nbformat": 4,
 "nbformat_minor": 2
}
