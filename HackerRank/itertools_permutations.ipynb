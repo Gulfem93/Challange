{
 "cells": [
  {
   "cell_type": "markdown",
   "metadata": {},
   "source": [
    "```\n",
    "Bu araç art arda  döner r yinelenebilir bir öğenin uzunluk permütasyonları.\n",
    "\n",
    "Eğer r belirtilmemiş veya is None, o zaman yinelenebilirin uzunluğuna varsayılandır ve tüm olası tam uzunluktaki permütasyonlar oluşturulur.\n",
    "\n",
    "Permütasyonlar sözlükbilimsel olarak sıralanmış bir düzende yazdırılır. Bu nedenle, yinelenebilir girdi sıralanırsa, permütasyon demetleri sıralı bir düzende üretilecektir.\n",
    "```\n",
    "\n",
    "\n",
    ". Örnek Giriş:\n",
    "````\n",
    "HACK 2\n",
    "````\n",
    ". Örnek Çıktı:\n",
    "\n",
    "```\n",
    "AC\n",
    "AH\n",
    "AK\n",
    "CA\n",
    "CH\n",
    "CK\n",
    "HA\n",
    "HC\n",
    "HK\n",
    "KA\n",
    "KC\n",
    "KH\n",
    "```"
   ]
  },
  {
   "cell_type": "code",
   "execution_count": 9,
   "metadata": {},
   "outputs": [
    {
     "name": "stdout",
     "output_type": "stream",
     "text": [
      "AC\n",
      "AH\n",
      "AK\n",
      "CA\n",
      "CH\n",
      "CK\n",
      "HA\n",
      "HC\n",
      "HK\n",
      "KA\n",
      "KC\n",
      "KH\n"
     ]
    }
   ],
   "source": [
    "# Enter your code here. Read input from STDIN. Print output to STDOUT\n",
    "from itertools import permutations\n",
    "girdi = input().split()\n",
    "s1 = girdi[0]\n",
    "s2 = int(girdi[1])\n",
    "n = list(permutations(s1,s2))\n",
    "\n",
    "toplam = \"\"\n",
    "\n",
    "n.sort()\n",
    "for i in n:\n",
    "    print(\"\".join(i))\n",
    "\n"
   ]
  }
 ],
 "metadata": {
  "interpreter": {
   "hash": "8b03d4cd05d71d535371b426da57de743181e37d8974a9636efe6e78873daaed"
  },
  "kernelspec": {
   "display_name": "Python 3.9.6 64-bit",
   "language": "python",
   "name": "python3"
  },
  "language_info": {
   "codemirror_mode": {
    "name": "ipython",
    "version": 3
   },
   "file_extension": ".py",
   "mimetype": "text/x-python",
   "name": "python",
   "nbconvert_exporter": "python",
   "pygments_lexer": "ipython3",
   "version": "3.9.6"
  },
  "orig_nbformat": 4
 },
 "nbformat": 4,
 "nbformat_minor": 2
}
