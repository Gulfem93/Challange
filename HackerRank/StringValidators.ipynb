{
 "cells": [
  {
   "cell_type": "code",
   "execution_count": 25,
   "id": "42058984",
   "metadata": {},
   "outputs": [
    {
     "name": "stdout",
     "output_type": "stream",
     "text": [
      "qA2\n"
     ]
    }
   ],
   "source": [
    "s = input()"
   ]
  },
  {
   "cell_type": "code",
   "execution_count": 26,
   "id": "b6bd3fcd",
   "metadata": {},
   "outputs": [],
   "source": [
    "s_isalnum = []\n",
    "s_isalpha = []\n",
    "s_isdigit = []\n",
    "s_islower = []\n",
    "s_isupper = []"
   ]
  },
  {
   "cell_type": "code",
   "execution_count": 32,
   "id": "9a23077e",
   "metadata": {},
   "outputs": [
    {
     "name": "stdout",
     "output_type": "stream",
     "text": [
      "True\n",
      "True\n",
      "True\n",
      "True\n",
      "True\n"
     ]
    }
   ],
   "source": [
    "# isalnum()\n",
    "for i in s:\n",
    "    if i.isalnum() == True:\n",
    "        s_isalnum.append(i)\n",
    "\n",
    "if len(s_isalnum) != 0:\n",
    "    print(True)\n",
    "else:\n",
    "    print(False)\n",
    "    \n",
    "    \n",
    "# isalpha()    \n",
    "for i in s:\n",
    "    if i.isalpha() == True:\n",
    "        s_isalpha.append(i)\n",
    "\n",
    "if len(s_isalpha) != 0:\n",
    "    print(True)\n",
    "else:\n",
    "    print(False)\n",
    "    \n",
    "    \n",
    "# isdigit()    \n",
    "for i in s:\n",
    "    if i.isdigit() == True:\n",
    "        s_isdigit.append(i)\n",
    "\n",
    "if len(s_isdigit) != 0:\n",
    "    print(True)\n",
    "else:\n",
    "    print(False)\n",
    "    \n",
    "    \n",
    "# islower()\n",
    "for i in s:\n",
    "    if i.islower() == True:\n",
    "        s_islower.append(i)\n",
    "\n",
    "if len(s_islower) != 0:\n",
    "    print(True)\n",
    "else:\n",
    "    print(False)\n",
    "\n",
    "    \n",
    "# isupper()\n",
    "for i in s:\n",
    "    if i.isupper() == True:\n",
    "        s_isupper.append(i)\n",
    "\n",
    "if len(s_isupper) != 0:\n",
    "    print(True)\n",
    "else:\n",
    "    print(False)\n",
    "\n",
    "    "
   ]
  },
  {
   "cell_type": "code",
   "execution_count": null,
   "id": "7bf2fd7a",
   "metadata": {},
   "outputs": [],
   "source": []
  }
 ],
 "metadata": {
  "kernelspec": {
   "display_name": "Python 3 (ipykernel)",
   "language": "python",
   "name": "python3"
  },
  "language_info": {
   "codemirror_mode": {
    "name": "ipython",
    "version": 3
   },
   "file_extension": ".py",
   "mimetype": "text/x-python",
   "name": "python",
   "nbconvert_exporter": "python",
   "pygments_lexer": "ipython3",
   "version": "3.9.6"
  }
 },
 "nbformat": 4,
 "nbformat_minor": 5
}
