{
 "cells": [
  {
   "cell_type": "markdown",
   "metadata": {},
   "source": [
    ". Örnek:\n",
    "```\n",
    "Set ([1, 3, 4]) is a strict superset of set ([1, 3]).\n",
    "Set ([1, 3, 4]) is not a strict superset of set ([1, 3, 4]).\n",
    "Set ([1, 3, 4]) is not a strict superset of set ([1, 3, 5]).\n",
    "```\n",
    "\n",
    ". Örnek Girdi:\n",
    "```\n",
    "1 2 3 4 5 6 7 8 9 10 11 12 23 45 84 78\n",
    "2\n",
    "1 2 3 4 5\n",
    "100 11 12\n",
    "```\n",
    ". Örnek Çıktı:\n",
    "```\n",
    "False\n",
    "```"
   ]
  },
  {
   "cell_type": "code",
   "execution_count": 2,
   "metadata": {},
   "outputs": [
    {
     "data": {
      "text/plain": [
       "False"
      ]
     },
     "execution_count": 2,
     "metadata": {},
     "output_type": "execute_result"
    }
   ],
   "source": [
    "dizi = map(int,list(input().split()))\n",
    "number = map(int,list(input().split()))\n",
    "\n",
    "kume1 = set(map(int,list(input().split())))\n",
    "kume2 = set(map(int,list(input().split())))\n",
    "\n",
    "kume1.issubset(kume2)"
   ]
  }
 ],
 "metadata": {
  "interpreter": {
   "hash": "8b03d4cd05d71d535371b426da57de743181e37d8974a9636efe6e78873daaed"
  },
  "kernelspec": {
   "display_name": "Python 3.9.6 64-bit",
   "language": "python",
   "name": "python3"
  },
  "language_info": {
   "codemirror_mode": {
    "name": "ipython",
    "version": 3
   },
   "file_extension": ".py",
   "mimetype": "text/x-python",
   "name": "python",
   "nbconvert_exporter": "python",
   "pygments_lexer": "ipython3",
   "version": "3.9.6"
  },
  "orig_nbformat": 4
 },
 "nbformat": 4,
 "nbformat_minor": 2
}
