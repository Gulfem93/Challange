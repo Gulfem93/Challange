{
 "cells": [
  {
   "cell_type": "markdown",
   "id": "ea8772b6",
   "metadata": {},
   "source": [
    "### Given the participants' score sheet for your University Sports Day, you are required to find the runner-up score. You are given  scores. Store them in a list and find the score of the runner-up.\n",
    "\n",
    "\n",
    "\n",
    "##### Input\n",
    "\n",
    "    5\n",
    "    2 3 6 6 5\n",
    "\n",
    "##### Output\n",
    "    \n",
    "    5\n",
    "\n",
    ". Explanation 0\n",
    "\n",
    "Given list is [2 3 6 6 5]. The maximum score is 6, second maximum is 5. Hence, we print  as the runner-up score.\n"
   ]
  },
  {
   "cell_type": "code",
   "execution_count": 157,
   "id": "0a80d1fe",
   "metadata": {},
   "outputs": [
    {
     "name": "stdout",
     "output_type": "stream",
     "text": [
      "4\n",
      "57 57 -57 57\n"
     ]
    }
   ],
   "source": [
    "n = int(input())\n",
    "arr = map(int, input().split())\n",
    "    "
   ]
  },
  {
   "cell_type": "code",
   "execution_count": 158,
   "id": "da86d607",
   "metadata": {},
   "outputs": [],
   "source": [
    "arr_sort = []"
   ]
  },
  {
   "cell_type": "code",
   "execution_count": 159,
   "id": "07f45bdb",
   "metadata": {},
   "outputs": [],
   "source": [
    "for i in arr:\n",
    "    arr_sort.append(i)"
   ]
  },
  {
   "cell_type": "code",
   "execution_count": 160,
   "id": "64b11f8c",
   "metadata": {},
   "outputs": [],
   "source": [
    "arr_sort.sort()"
   ]
  },
  {
   "cell_type": "code",
   "execution_count": 161,
   "id": "51114a92",
   "metadata": {},
   "outputs": [
    {
     "data": {
      "text/plain": [
       "[-57, 57, 57, 57]"
      ]
     },
     "execution_count": 161,
     "metadata": {},
     "output_type": "execute_result"
    }
   ],
   "source": [
    "arr_sort"
   ]
  },
  {
   "cell_type": "code",
   "execution_count": 162,
   "id": "7f01e046",
   "metadata": {},
   "outputs": [],
   "source": [
    "arr_set = set(arr_sort)"
   ]
  },
  {
   "cell_type": "code",
   "execution_count": 163,
   "id": "9ad36017",
   "metadata": {},
   "outputs": [
    {
     "data": {
      "text/plain": [
       "{-57, 57}"
      ]
     },
     "execution_count": 163,
     "metadata": {},
     "output_type": "execute_result"
    }
   ],
   "source": [
    "arr_set"
   ]
  },
  {
   "cell_type": "code",
   "execution_count": 164,
   "id": "510ee03a",
   "metadata": {},
   "outputs": [],
   "source": [
    "arr_different = list(arr_set)"
   ]
  },
  {
   "cell_type": "code",
   "execution_count": 165,
   "id": "9978d059",
   "metadata": {},
   "outputs": [],
   "source": [
    "arr_different.sort()"
   ]
  },
  {
   "cell_type": "code",
   "execution_count": 166,
   "id": "89424ec1",
   "metadata": {},
   "outputs": [],
   "source": [
    "number = arr_different[len(arr_different) - 2]"
   ]
  },
  {
   "cell_type": "code",
   "execution_count": 167,
   "id": "88d091a1",
   "metadata": {},
   "outputs": [
    {
     "data": {
      "text/plain": [
       "-57"
      ]
     },
     "execution_count": 167,
     "metadata": {},
     "output_type": "execute_result"
    }
   ],
   "source": [
    "number"
   ]
  },
  {
   "cell_type": "code",
   "execution_count": 168,
   "id": "7bd8f80b",
   "metadata": {},
   "outputs": [
    {
     "data": {
      "text/plain": [
       "[-57, 57]"
      ]
     },
     "execution_count": 168,
     "metadata": {},
     "output_type": "execute_result"
    }
   ],
   "source": [
    "arr_different"
   ]
  },
  {
   "cell_type": "code",
   "execution_count": 169,
   "id": "68c35b48",
   "metadata": {},
   "outputs": [
    {
     "data": {
      "text/plain": [
       "-57"
      ]
     },
     "execution_count": 169,
     "metadata": {},
     "output_type": "execute_result"
    }
   ],
   "source": [
    "arr_different[len(arr_different) - 2]"
   ]
  },
  {
   "cell_type": "code",
   "execution_count": null,
   "id": "144de4bd",
   "metadata": {},
   "outputs": [],
   "source": []
  }
 ],
 "metadata": {
  "kernelspec": {
   "display_name": "Python 3 (ipykernel)",
   "language": "python",
   "name": "python3"
  },
  "language_info": {
   "codemirror_mode": {
    "name": "ipython",
    "version": 3
   },
   "file_extension": ".py",
   "mimetype": "text/x-python",
   "name": "python",
   "nbconvert_exporter": "python",
   "pygments_lexer": "ipython3",
   "version": "3.9.6"
  }
 },
 "nbformat": 4,
 "nbformat_minor": 5
}
