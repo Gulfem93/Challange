{
 "cells": [
  {
   "cell_type": "markdown",
   "id": "ebf34a43",
   "metadata": {},
   "source": [
    "You are given a string s consisting only of digits 0-9, commas ,, and dots .\n",
    "\n",
    "Your task is to complete the regex_pattern defined below, which will be used to re.split() all of the \",\" and \".\" symbols in s.\n",
    "\n",
    "##### İnput \n",
    "\n",
    "    100,000,000.000\n",
    "    \n",
    "##### Output\n",
    "\n",
    "    100\n",
    "    000\n",
    "    000\n",
    "    000"
   ]
  },
  {
   "cell_type": "code",
   "execution_count": 28,
   "id": "acdc3dad",
   "metadata": {},
   "outputs": [
    {
     "name": "stdout",
     "output_type": "stream",
     "text": [
      "100,000,000.000\n",
      "100\n",
      "000\n",
      "000\n",
      "000\n"
     ]
    }
   ],
   "source": [
    "regex_pattern = r\"[.,\\s]\\s*\"\t# Do not delete 'r'.\n",
    "import re\n",
    "print(\"\\n\".join(re.split(regex_pattern, input())))"
   ]
  },
  {
   "cell_type": "code",
   "execution_count": 23,
   "id": "f7b3a84e",
   "metadata": {},
   "outputs": [
    {
     "data": {
      "text/plain": [
       "'[.,\\\\s]\\\\s*'"
      ]
     },
     "execution_count": 23,
     "metadata": {},
     "output_type": "execute_result"
    }
   ],
   "source": [
    "regex_pattern"
   ]
  },
  {
   "cell_type": "code",
   "execution_count": null,
   "id": "23b23ab0",
   "metadata": {},
   "outputs": [],
   "source": [
    "[.,\\s]\\s*"
   ]
  }
 ],
 "metadata": {
  "kernelspec": {
   "display_name": "Python 3 (ipykernel)",
   "language": "python",
   "name": "python3"
  },
  "language_info": {
   "codemirror_mode": {
    "name": "ipython",
    "version": 3
   },
   "file_extension": ".py",
   "mimetype": "text/x-python",
   "name": "python",
   "nbconvert_exporter": "python",
   "pygments_lexer": "ipython3",
   "version": "3.9.6"
  }
 },
 "nbformat": 4,
 "nbformat_minor": 5
}
