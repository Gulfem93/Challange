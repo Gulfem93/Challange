{
 "cells": [
  {
   "cell_type": "code",
   "execution_count": 76,
   "id": "e9dfdf26",
   "metadata": {},
   "outputs": [],
   "source": [
    "NameScore_dict = {}"
   ]
  },
  {
   "cell_type": "code",
   "execution_count": 77,
   "id": "503b2246",
   "metadata": {},
   "outputs": [
    {
     "name": "stdout",
     "output_type": "stream",
     "text": [
      "5\n",
      "Harry\n",
      "37.21\n",
      "Berry\n",
      "37.21\n",
      "Tina\n",
      "37.2\n",
      "Akriti\n",
      "41\n",
      "Harsh\n",
      "39\n"
     ]
    }
   ],
   "source": [
    "for _ in range(int(input())):\n",
    "    name = input()\n",
    "    score = float(input())\n",
    "    NameScore_dict[name] = score"
   ]
  },
  {
   "cell_type": "code",
   "execution_count": 78,
   "id": "fead43b4",
   "metadata": {},
   "outputs": [
    {
     "data": {
      "text/plain": [
       "{'Harry': 37.21, 'Berry': 37.21, 'Tina': 37.2, 'Akriti': 41.0, 'Harsh': 39.0}"
      ]
     },
     "execution_count": 78,
     "metadata": {},
     "output_type": "execute_result"
    }
   ],
   "source": [
    "NameScore_dict"
   ]
  },
  {
   "cell_type": "code",
   "execution_count": 79,
   "id": "ce3af297",
   "metadata": {},
   "outputs": [],
   "source": [
    "NameScore_list = list(NameScore_dict.values())"
   ]
  },
  {
   "cell_type": "code",
   "execution_count": 83,
   "id": "57797aae",
   "metadata": {},
   "outputs": [],
   "source": [
    "NameScore_list.sort()"
   ]
  },
  {
   "cell_type": "code",
   "execution_count": 85,
   "id": "6b322eb0",
   "metadata": {},
   "outputs": [
    {
     "data": {
      "text/plain": [
       "[37.2, 37.21, 37.21, 39.0, 41.0]"
      ]
     },
     "execution_count": 85,
     "metadata": {},
     "output_type": "execute_result"
    }
   ],
   "source": [
    "NameScore_list"
   ]
  },
  {
   "cell_type": "code",
   "execution_count": 86,
   "id": "b157b124",
   "metadata": {},
   "outputs": [],
   "source": [
    "dict_list = []"
   ]
  },
  {
   "cell_type": "code",
   "execution_count": 88,
   "id": "aae711d6",
   "metadata": {},
   "outputs": [
    {
     "name": "stdout",
     "output_type": "stream",
     "text": [
      "Harry\n",
      "Berry\n"
     ]
    }
   ],
   "source": [
    "for keyvalue in NameScore_dict.items():\n",
    "    key, value = keyvalue[0], keyvalue[1]\n",
    "    if value == NameScore_list[1]:\n",
    "        print(key)\n",
    "        dict_list.append(key)\n",
    "    elif value == NameScore_list[2]:\n",
    "        print(key) \n",
    "        dict_list.append(key)\n",
    "    "
   ]
  },
  {
   "cell_type": "code",
   "execution_count": 90,
   "id": "4a7ce580",
   "metadata": {},
   "outputs": [],
   "source": [
    "dict_list.sort()"
   ]
  },
  {
   "cell_type": "code",
   "execution_count": 91,
   "id": "fd81d122",
   "metadata": {},
   "outputs": [
    {
     "data": {
      "text/plain": [
       "['Berry', 'Harry']"
      ]
     },
     "execution_count": 91,
     "metadata": {},
     "output_type": "execute_result"
    }
   ],
   "source": [
    "dict_list"
   ]
  },
  {
   "cell_type": "code",
   "execution_count": null,
   "id": "c6c5e442",
   "metadata": {},
   "outputs": [],
   "source": []
  }
 ],
 "metadata": {
  "kernelspec": {
   "display_name": "Python 3 (ipykernel)",
   "language": "python",
   "name": "python3"
  },
  "language_info": {
   "codemirror_mode": {
    "name": "ipython",
    "version": 3
   },
   "file_extension": ".py",
   "mimetype": "text/x-python",
   "name": "python",
   "nbconvert_exporter": "python",
   "pygments_lexer": "ipython3",
   "version": "3.9.6"
  }
 },
 "nbformat": 4,
 "nbformat_minor": 5
}
