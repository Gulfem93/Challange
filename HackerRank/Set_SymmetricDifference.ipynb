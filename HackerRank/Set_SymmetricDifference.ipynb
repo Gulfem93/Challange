{
 "cells": [
  {
   "cell_type": "markdown",
   "metadata": {},
   "source": [
    "![](https://s3.amazonaws.com/hr-challenge-images/9421/1437912471-534f33cf60-AB.png)\n",
    "\n",
    ". Örnek Girdi:\n",
    "```\n",
    "9\n",
    "1 2 3 4 5 6 7 8 9\n",
    "9\n",
    "10 1 2 3 11 21 55 6 8\n",
    "```\n",
    ". Örnek Çıktı:\n",
    "```\n",
    "8\n",
    "```\n",
    "\n",
    ". Açıklama:\n",
    "```\n",
    "İngilizce veya Fransızca gazetelere aboneliği olan ancak her ikisine birden abone olmayan öğrencilerin rulo sayıları : 4 5 7 9 10 11 21 55.\n",
    "Dolayısıyla, toplam 8 öğrenciler.\n",
    "```"
   ]
  },
  {
   "cell_type": "markdown",
   "metadata": {},
   "source": []
  },
  {
   "cell_type": "code",
   "execution_count": 1,
   "metadata": {},
   "outputs": [],
   "source": [
    "num = int(input())\n",
    "dizi1 = set(list(input().split()))\n",
    "num2 = int(input())\n",
    "dizi2 = set(list(input().split()))\n",
    "\n",
    "son = dizi1.symmetric_difference(dizi2)\n"
   ]
  },
  {
   "cell_type": "code",
   "execution_count": 3,
   "metadata": {},
   "outputs": [
    {
     "data": {
      "text/plain": [
       "8"
      ]
     },
     "execution_count": 3,
     "metadata": {},
     "output_type": "execute_result"
    }
   ],
   "source": [
    "len(son)"
   ]
  },
  {
   "cell_type": "code",
   "execution_count": 2,
   "metadata": {},
   "outputs": [
    {
     "name": "stdout",
     "output_type": "stream",
     "text": [
      "4\n",
      "5\n",
      "7\n",
      "9\n",
      "10\n",
      "11\n",
      "21\n",
      "55\n"
     ]
    }
   ],
   "source": [
    "son = map(int, list(son))\n",
    "son = sorted(son)\n",
    "\n",
    "for i in son:\n",
    "    print(i)"
   ]
  }
 ],
 "metadata": {
  "interpreter": {
   "hash": "8b03d4cd05d71d535371b426da57de743181e37d8974a9636efe6e78873daaed"
  },
  "kernelspec": {
   "display_name": "Python 3.9.6 64-bit",
   "language": "python",
   "name": "python3"
  },
  "language_info": {
   "codemirror_mode": {
    "name": "ipython",
    "version": 3
   },
   "file_extension": ".py",
   "mimetype": "text/x-python",
   "name": "python",
   "nbconvert_exporter": "python",
   "pygments_lexer": "ipython3",
   "version": "3.9.6"
  },
  "orig_nbformat": 4
 },
 "nbformat": 4,
 "nbformat_minor": 2
}
